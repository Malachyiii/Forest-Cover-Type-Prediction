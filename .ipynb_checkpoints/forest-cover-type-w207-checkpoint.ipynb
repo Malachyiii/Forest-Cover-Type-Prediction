{
 "cells": [
  {
   "cell_type": "code",
   "execution_count": 1,
   "metadata": {
    "execution": {
     "iopub.execute_input": "2021-07-20T22:21:45.037432Z",
     "iopub.status.busy": "2021-07-20T22:21:45.036162Z",
     "iopub.status.idle": "2021-07-20T22:21:52.166540Z",
     "shell.execute_reply": "2021-07-20T22:21:52.165720Z",
     "shell.execute_reply.started": "2021-07-20T21:10:40.967588Z"
    },
    "papermill": {
     "duration": 7.177443,
     "end_time": "2021-07-20T22:21:52.166728",
     "exception": false,
     "start_time": "2021-07-20T22:21:44.989285",
     "status": "completed"
    },
    "tags": []
   },
   "outputs": [
    {
     "name": "stdout",
     "output_type": "stream",
     "text": [
      "OK\n",
      "Tensorflow version 2.4.1\n",
      "/kaggle/input/forest-cover-type-prediction/train.csv.zip\n",
      "/kaggle/input/forest-cover-type-prediction/sampleSubmission.csv\n",
      "/kaggle/input/forest-cover-type-prediction/sampleSubmission.csv.zip\n",
      "/kaggle/input/forest-cover-type-prediction/test3.csv\n",
      "/kaggle/input/forest-cover-type-prediction/train.csv\n",
      "/kaggle/input/forest-cover-type-prediction/test.csv\n",
      "/kaggle/input/forest-cover-type-prediction/test.csv.zip\n"
     ]
    }
   ],
   "source": [
    "# new cell added by JK\n",
    "\n",
    "# General libraries.\n",
    "import numpy as np\n",
    "import matplotlib.pyplot as plt\n",
    "\n",
    "# SK-learn libraries for learning.\n",
    "from sklearn.pipeline import Pipeline\n",
    "from sklearn.neighbors import KNeighborsClassifier\n",
    "from sklearn.model_selection import GridSearchCV\n",
    "from sklearn.tree import DecisionTreeClassifier\n",
    "from sklearn.naive_bayes import GaussianNB\n",
    "from sklearn import ensemble\n",
    "from sklearn.linear_model import LogisticRegression\n",
    "from sklearn.svm import SVC\n",
    "from sklearn.mixture import GaussianMixture\n",
    "from sklearn import linear_model\n",
    "from sklearn.ensemble import AdaBoostClassifier\n",
    "from sklearn.ensemble import RandomForestClassifier\n",
    "from sklearn.ensemble import GradientBoostingClassifier\n",
    "\n",
    "# SK-learn libraries for evaluation.\n",
    "from sklearn.metrics import confusion_matrix\n",
    "from sklearn import metrics\n",
    "from sklearn.metrics import classification_report\n",
    "\n",
    "# SK-learn libraries for feature preprocessing.\n",
    "from sklearn import preprocessing\n",
    "\n",
    "# SK-learn libraries for dimensionality reduction.\n",
    "from sklearn.decomposition import PCA\n",
    "\n",
    "# Data analysis and plotting \n",
    "import pandas as pd\n",
    "import seaborn as sns\n",
    "from scipy import stats\n",
    "from sklearn.model_selection import train_test_split\n",
    "import copy\n",
    "\n",
    "np.random.seed(0)\n",
    "print (\"OK\")\n",
    "import tensorflow as tf\n",
    "print(\"Tensorflow version\", tf.__version__)\n",
    "\n",
    "%matplotlib inline\n",
    "\n",
    "# Input data files are available in the read-only \"../input/\" directory\n",
    "# For example, running this (by clicking run or pressing Shift+Enter) will list all files under the input directory\n",
    "\n",
    "import os\n",
    "for dirname, _, filenames in os.walk('/kaggle/input'):\n",
    "    for filename in filenames:\n",
    "        print(os.path.join(dirname, filename))"
   ]
  },
  {
   "cell_type": "markdown",
   "metadata": {
    "papermill": {
     "duration": 0.041708,
     "end_time": "2021-07-20T22:21:52.251060",
     "exception": false,
     "start_time": "2021-07-20T22:21:52.209352",
     "status": "completed"
    },
    "tags": []
   },
   "source": [
    "# Forest Cover Type Prediction\n",
    "Team:\n",
    "   - Diana Chacon\n",
    "   - Jyoti Kumari\n",
    "   - Malachy Moran\n",
    "\n",
    "Date: Aug 01, 2021"
   ]
  },
  {
   "cell_type": "markdown",
   "metadata": {
    "papermill": {
     "duration": 0.041295,
     "end_time": "2021-07-20T22:21:52.333958",
     "exception": false,
     "start_time": "2021-07-20T22:21:52.292663",
     "status": "completed"
    },
    "tags": []
   },
   "source": [
    "We have applied most of the classifiers and algorithms for supervised learning, that we studied during w207 MIDS course, starting from week 1 to week 9. These are listed below in the sequence per week:\n",
    "\n",
    "- k Nearest Neighbors (week 2)\n",
    "- Naive Bayes (Week 3)\n",
    "- Decision trees, including Random Forests, Adaboost and Gradient Boosting (week 4)\n",
    "- Logistic regression (week 5)\n",
    "- Stochastic Gradient Descent (week 6)\n",
    "- Support Vector machine (week 8)\n"
   ]
  },
  {
   "cell_type": "markdown",
   "metadata": {
    "papermill": {
     "duration": 0.041378,
     "end_time": "2021-07-20T22:21:52.417613",
     "exception": false,
     "start_time": "2021-07-20T22:21:52.376235",
     "status": "completed"
    },
    "tags": []
   },
   "source": [
    "# Table of Contents\n",
    "1. [Data Loading[](http://)](#[](http://)Data Loading)\n",
    "2. [Example2](kNN)\n",
    "3. [Third Example](Decision Trees)\n",
    "4. [Fourth Example](Logistic Regression)"
   ]
  },
  {
   "cell_type": "markdown",
   "metadata": {
    "papermill": {
     "duration": 0.04212,
     "end_time": "2021-07-20T22:21:52.502219",
     "exception": false,
     "start_time": "2021-07-20T22:21:52.460099",
     "status": "completed"
    },
    "tags": []
   },
   "source": [
    "# Data Description"
   ]
  },
  {
   "cell_type": "markdown",
   "metadata": {
    "papermill": {
     "duration": 0.041443,
     "end_time": "2021-07-20T22:21:52.585616",
     "exception": false,
     "start_time": "2021-07-20T22:21:52.544173",
     "status": "completed"
    },
    "tags": []
   },
   "source": [
    "** new markdown cell added by JK**\n",
    "\n",
    "**Training datset:**\n",
    "\n",
    "There are a total of 15120 observations in the training set, that contains 55 features and the Cover_Type.\n",
    "\n",
    "**Test datset:**\n",
    "\n",
    "There are a total of 565892 observations in the test set, that contains 55 features. Test dataset has no labels.\n",
    "\n",
    "**Data Fields:**\n",
    "- Elevation - Elevation in meters\n",
    "- Aspect - Aspect in degrees azimuth\n",
    "- Slope - Slope in degrees\n",
    "- Horizontal_Distance_To_Hydrology - Horz Dist to nearest surface water features\n",
    "- Vertical_Distance_To_Hydrology - Vert Dist to nearest surface water features\n",
    "- Horizontal_Distance_To_Roadways - Horz Dist to nearest roadway\n",
    "- Hillshade_9am (0 to 255 index) - Hillshade index at 9am, summer solstice\n",
    "- Hillshade_Noon (0 to 255 index) - Hillshade index at noon, summer solstice\n",
    "- Hillshade_3pm (0 to 255 index) - Hillshade index at 3pm, summer solstice\n",
    "- Horizontal_Distance_To_Fire_Points - Horz Dist to nearest wildfire ignition points\n",
    "- Wilderness_Area (4 binary columns, 0 = absence or 1 = presence) - Wilderness area designation\n",
    "- Soil_Type (40 binary columns, 0 = absence or 1 = presence) - Soil Type designation\n",
    "- Cover_Type (7 types, integers 1 to 7) - Forest Cover Type designation\n",
    "\n",
    "**Explaining the features:**\n",
    "\n",
    "Without considering the first column, `ID`, The first 10 features of each observation (`Elevation` to `Horizontal_Distance_To_Fire_Points`) are continuous, with different ranges. All 10 features are numeric variables.\n",
    "\n",
    "while the remaining 44 are all binary. 4 of those 44 binary features correspond to `Wilderness_Area` (i.e., there are 4 possible types), so any observation will have one 1 and three 0's in those columns. \n",
    "\n",
    "The last 40 features correspond to the `Soil_Type` (i.e., there are 40 possible types), so any observation will have one 1 and thirty-nine 0's in those columns."
   ]
  },
  {
   "cell_type": "markdown",
   "metadata": {
    "papermill": {
     "duration": 0.042024,
     "end_time": "2021-07-20T22:21:52.669535",
     "exception": false,
     "start_time": "2021-07-20T22:21:52.627511",
     "status": "completed"
    },
    "tags": []
   },
   "source": [
    "# Data Loading"
   ]
  },
  {
   "cell_type": "markdown",
   "metadata": {
    "papermill": {
     "duration": 0.041488,
     "end_time": "2021-07-20T22:21:52.754355",
     "exception": false,
     "start_time": "2021-07-20T22:21:52.712867",
     "status": "completed"
    },
    "tags": []
   },
   "source": [
    "### Let's load the training and test data"
   ]
  },
  {
   "cell_type": "markdown",
   "metadata": {
    "papermill": {
     "duration": 0.041155,
     "end_time": "2021-07-20T22:21:52.837621",
     "exception": false,
     "start_time": "2021-07-20T22:21:52.796466",
     "status": "completed"
    },
    "tags": []
   },
   "source": [
    "We also discard the 1st variable(`ID`), which does not provide any information about the forest cover type."
   ]
  },
  {
   "cell_type": "code",
   "execution_count": 2,
   "metadata": {
    "execution": {
     "iopub.execute_input": "2021-07-20T22:21:52.929537Z",
     "iopub.status.busy": "2021-07-20T22:21:52.928708Z",
     "iopub.status.idle": "2021-07-20T22:21:55.761819Z",
     "shell.execute_reply": "2021-07-20T22:21:55.761230Z",
     "shell.execute_reply.started": "2021-07-20T21:05:30.573607Z"
    },
    "papermill": {
     "duration": 2.882064,
     "end_time": "2021-07-20T22:21:55.761975",
     "exception": false,
     "start_time": "2021-07-20T22:21:52.879911",
     "status": "completed"
    },
    "tags": []
   },
   "outputs": [
    {
     "name": "stdout",
     "output_type": "stream",
     "text": [
      "(15120, 56)\n",
      "(15120, 54)\n",
      "(15120,)\n",
      "(565892, 54)\n"
     ]
    }
   ],
   "source": [
    "# new code cell added by JK\n",
    "#loading train data\n",
    "train=pd.read_csv('/kaggle/input/forest-cover-type-prediction/train.csv')\n",
    "\n",
    "#loading test data\n",
    "test = pd.read_csv('/kaggle/input/forest-cover-type-prediction/test.csv')\n",
    "\n",
    "test_data = test.drop(['Id'], axis = 1) # Dropping first column `Id`. There are no labels in the test data\n",
    "\n",
    "train_label = train.Cover_Type\n",
    "\n",
    "train_data = train.drop(['Id', 'Cover_Type'], axis = 1)\n",
    "\n",
    "print(train.shape)\n",
    "print(train_data.shape)\n",
    "print(train_label.shape)\n",
    "print(test_data.shape)"
   ]
  },
  {
   "cell_type": "markdown",
   "metadata": {
    "papermill": {
     "duration": 0.042141,
     "end_time": "2021-07-20T22:21:55.846481",
     "exception": false,
     "start_time": "2021-07-20T22:21:55.804340",
     "status": "completed"
    },
    "tags": []
   },
   "source": [
    "The original train dataset contains 15120 observations with 56 features.(containing both features and the Cover_Type)\n",
    "\n",
    "  - *The first column has been dropped, since it is not really a feature but more of an observation ID*\n",
    " \n",
    "  - *The last column is the train_label*\n",
    "\n",
    "**This gives us a train dataset with 15120 observations and 54 features.**\n",
    "\n",
    "The test dataset contains 565892 observations with the same 55 features \n",
    "After dropping the first column `Id`, the final test dataset contains 54 features.\n",
    "\n",
    "**This gives us a test dataset with 565892 observations and 54 features.**"
   ]
  },
  {
   "cell_type": "markdown",
   "metadata": {
    "papermill": {
     "duration": 0.042219,
     "end_time": "2021-07-20T22:21:55.931535",
     "exception": false,
     "start_time": "2021-07-20T22:21:55.889316",
     "status": "completed"
    },
    "tags": []
   },
   "source": [
    "### Split training data into training and validation data (dev)"
   ]
  },
  {
   "cell_type": "markdown",
   "metadata": {
    "papermill": {
     "duration": 0.042531,
     "end_time": "2021-07-20T22:21:56.016830",
     "exception": false,
     "start_time": "2021-07-20T22:21:55.974299",
     "status": "completed"
    },
    "tags": []
   },
   "source": [
    "*To evaluate our performance, we'll split the training set in 2 subsets: training data (67%) and development or validation data (33%).*\n",
    "\n",
    "*Test data must not be used to validate the models, because it introduces bias. Test data must be looked at just once in the whole model building process. Looking at test data multiple times introduces bias and we end up learning the error rate on test data beforehand and try to tweak the training parameters, which is not recommended.*"
   ]
  },
  {
   "cell_type": "code",
   "execution_count": 3,
   "metadata": {
    "execution": {
     "iopub.execute_input": "2021-07-20T22:21:56.121086Z",
     "iopub.status.busy": "2021-07-20T22:21:56.119894Z",
     "iopub.status.idle": "2021-07-20T22:21:56.141906Z",
     "shell.execute_reply": "2021-07-20T22:21:56.142768Z",
     "shell.execute_reply.started": "2021-07-20T21:05:33.66459Z"
    },
    "papermill": {
     "duration": 0.083257,
     "end_time": "2021-07-20T22:21:56.143080",
     "exception": false,
     "start_time": "2021-07-20T22:21:56.059823",
     "status": "completed"
    },
    "tags": []
   },
   "outputs": [
    {
     "name": "stdout",
     "output_type": "stream",
     "text": [
      "(10130, 54)\n",
      "(10130,)\n",
      "(4990, 54)\n",
      "(4990,)\n"
     ]
    }
   ],
   "source": [
    "# new code cell added by JK\n",
    "# Shuffle the data, but make sure that the features and accompanying labels stay in sync.\n",
    "\n",
    "np.random.seed(0)\n",
    "shuffle = np.random.permutation(np.arange(train_data.shape[0]))\n",
    "#train_data = train_data.iloc[shuffle,:]\n",
    "train_data, train_label = train_data.iloc[shuffle], train_label.iloc[shuffle]\n",
    "\n",
    "# Split into train (67%) and dev (33%)\n",
    "\n",
    "train_data, dev_data, train_label, dev_label = train_test_split(train_data, train_label, train_size=0.67)\n",
    "\n",
    "print(train_data.shape)\n",
    "print(train_label.shape)\n",
    "print(dev_data.shape)\n",
    "print(dev_label.shape)"
   ]
  },
  {
   "cell_type": "markdown",
   "metadata": {
    "papermill": {
     "duration": 0.042071,
     "end_time": "2021-07-20T22:21:56.236550",
     "exception": false,
     "start_time": "2021-07-20T22:21:56.194479",
     "status": "completed"
    },
    "tags": []
   },
   "source": [
    "# Exploratory Data Analysis"
   ]
  },
  {
   "cell_type": "code",
   "execution_count": 4,
   "metadata": {
    "execution": {
     "iopub.execute_input": "2021-07-20T22:21:56.328557Z",
     "iopub.status.busy": "2021-07-20T22:21:56.327559Z",
     "iopub.status.idle": "2021-07-20T22:21:56.404418Z",
     "shell.execute_reply": "2021-07-20T22:21:56.403815Z",
     "shell.execute_reply.started": "2021-07-20T21:05:33.69494Z"
    },
    "papermill": {
     "duration": 0.12497,
     "end_time": "2021-07-20T22:21:56.404559",
     "exception": false,
     "start_time": "2021-07-20T22:21:56.279589",
     "status": "completed"
    },
    "tags": []
   },
   "outputs": [
    {
     "name": "stdout",
     "output_type": "stream",
     "text": [
      "   Id  Elevation  Aspect  Slope  Horizontal_Distance_To_Hydrology  \\\n",
      "0   1       2596      51      3                               258   \n",
      "1   2       2590      56      2                               212   \n",
      "2   3       2804     139      9                               268   \n",
      "3   4       2785     155     18                               242   \n",
      "4   5       2595      45      2                               153   \n",
      "\n",
      "   Vertical_Distance_To_Hydrology  Horizontal_Distance_To_Roadways  \\\n",
      "0                               0                              510   \n",
      "1                              -6                              390   \n",
      "2                              65                             3180   \n",
      "3                             118                             3090   \n",
      "4                              -1                              391   \n",
      "\n",
      "   Hillshade_9am  Hillshade_Noon  Hillshade_3pm  ...  Soil_Type32  \\\n",
      "0            221             232            148  ...            0   \n",
      "1            220             235            151  ...            0   \n",
      "2            234             238            135  ...            0   \n",
      "3            238             238            122  ...            0   \n",
      "4            220             234            150  ...            0   \n",
      "\n",
      "   Soil_Type33  Soil_Type34  Soil_Type35  Soil_Type36  Soil_Type37  \\\n",
      "0            0            0            0            0            0   \n",
      "1            0            0            0            0            0   \n",
      "2            0            0            0            0            0   \n",
      "3            0            0            0            0            0   \n",
      "4            0            0            0            0            0   \n",
      "\n",
      "   Soil_Type38  Soil_Type39  Soil_Type40  Cover_Type  \n",
      "0            0            0            0           5  \n",
      "1            0            0            0           5  \n",
      "2            0            0            0           2  \n",
      "3            0            0            0           2  \n",
      "4            0            0            0           5  \n",
      "\n",
      "[5 rows x 56 columns]\n"
     ]
    },
    {
     "data": {
      "text/plain": [
       "Index(['Id', 'Elevation', 'Aspect', 'Slope',\n",
       "       'Horizontal_Distance_To_Hydrology', 'Vertical_Distance_To_Hydrology',\n",
       "       'Horizontal_Distance_To_Roadways', 'Hillshade_9am', 'Hillshade_Noon',\n",
       "       'Hillshade_3pm', 'Horizontal_Distance_To_Fire_Points',\n",
       "       'Wilderness_Area1', 'Wilderness_Area2', 'Wilderness_Area3',\n",
       "       'Wilderness_Area4', 'Soil_Type1', 'Soil_Type2', 'Soil_Type3',\n",
       "       'Soil_Type4', 'Soil_Type5', 'Soil_Type6', 'Soil_Type7', 'Soil_Type8',\n",
       "       'Soil_Type9', 'Soil_Type10', 'Soil_Type11', 'Soil_Type12',\n",
       "       'Soil_Type13', 'Soil_Type14', 'Soil_Type15', 'Soil_Type16',\n",
       "       'Soil_Type17', 'Soil_Type18', 'Soil_Type19', 'Soil_Type20',\n",
       "       'Soil_Type21', 'Soil_Type22', 'Soil_Type23', 'Soil_Type24',\n",
       "       'Soil_Type25', 'Soil_Type26', 'Soil_Type27', 'Soil_Type28',\n",
       "       'Soil_Type29', 'Soil_Type30', 'Soil_Type31', 'Soil_Type32',\n",
       "       'Soil_Type33', 'Soil_Type34', 'Soil_Type35', 'Soil_Type36',\n",
       "       'Soil_Type37', 'Soil_Type38', 'Soil_Type39', 'Soil_Type40',\n",
       "       'Cover_Type'],\n",
       "      dtype='object')"
      ]
     },
     "execution_count": 4,
     "metadata": {},
     "output_type": "execute_result"
    }
   ],
   "source": [
    "all_data=pd.read_csv('/kaggle/input/forest-cover-type-prediction/train.csv')\n",
    "\n",
    "print(all_data.head())\n",
    "\n",
    "all_data.columns"
   ]
  },
  {
   "cell_type": "code",
   "execution_count": 5,
   "metadata": {
    "execution": {
     "iopub.execute_input": "2021-07-20T22:21:56.496874Z",
     "iopub.status.busy": "2021-07-20T22:21:56.495785Z",
     "iopub.status.idle": "2021-07-20T22:21:56.529569Z",
     "shell.execute_reply": "2021-07-20T22:21:56.529037Z",
     "shell.execute_reply.started": "2021-07-20T21:05:33.802816Z"
    },
    "papermill": {
     "duration": 0.08133,
     "end_time": "2021-07-20T22:21:56.529725",
     "exception": false,
     "start_time": "2021-07-20T22:21:56.448395",
     "status": "completed"
    },
    "tags": []
   },
   "outputs": [
    {
     "data": {
      "text/plain": [
       "Id                                    15120\n",
       "Elevation                              1665\n",
       "Aspect                                  361\n",
       "Slope                                    52\n",
       "Horizontal_Distance_To_Hydrology        400\n",
       "Vertical_Distance_To_Hydrology          423\n",
       "Horizontal_Distance_To_Roadways        3250\n",
       "Hillshade_9am                           176\n",
       "Hillshade_Noon                          141\n",
       "Hillshade_3pm                           247\n",
       "Horizontal_Distance_To_Fire_Points     2710\n",
       "Wilderness_Area1                          2\n",
       "Wilderness_Area2                          2\n",
       "Wilderness_Area3                          2\n",
       "Wilderness_Area4                          2\n",
       "Soil_Type1                                2\n",
       "Soil_Type2                                2\n",
       "Soil_Type3                                2\n",
       "Soil_Type4                                2\n",
       "Soil_Type5                                2\n",
       "Soil_Type6                                2\n",
       "Soil_Type7                                1\n",
       "Soil_Type8                                2\n",
       "Soil_Type9                                2\n",
       "Soil_Type10                               2\n",
       "Soil_Type11                               2\n",
       "Soil_Type12                               2\n",
       "Soil_Type13                               2\n",
       "Soil_Type14                               2\n",
       "Soil_Type15                               1\n",
       "Soil_Type16                               2\n",
       "Soil_Type17                               2\n",
       "Soil_Type18                               2\n",
       "Soil_Type19                               2\n",
       "Soil_Type20                               2\n",
       "Soil_Type21                               2\n",
       "Soil_Type22                               2\n",
       "Soil_Type23                               2\n",
       "Soil_Type24                               2\n",
       "Soil_Type25                               2\n",
       "Soil_Type26                               2\n",
       "Soil_Type27                               2\n",
       "Soil_Type28                               2\n",
       "Soil_Type29                               2\n",
       "Soil_Type30                               2\n",
       "Soil_Type31                               2\n",
       "Soil_Type32                               2\n",
       "Soil_Type33                               2\n",
       "Soil_Type34                               2\n",
       "Soil_Type35                               2\n",
       "Soil_Type36                               2\n",
       "Soil_Type37                               2\n",
       "Soil_Type38                               2\n",
       "Soil_Type39                               2\n",
       "Soil_Type40                               2\n",
       "Cover_Type                                7\n",
       "dtype: int64"
      ]
     },
     "execution_count": 5,
     "metadata": {},
     "output_type": "execute_result"
    }
   ],
   "source": [
    "#Looking for the total number of unique values by column\n",
    "all_data.nunique()"
   ]
  },
  {
   "cell_type": "code",
   "execution_count": 6,
   "metadata": {
    "execution": {
     "iopub.execute_input": "2021-07-20T22:21:56.622754Z",
     "iopub.status.busy": "2021-07-20T22:21:56.622073Z",
     "iopub.status.idle": "2021-07-20T22:21:56.629958Z",
     "shell.execute_reply": "2021-07-20T22:21:56.630447Z",
     "shell.execute_reply.started": "2021-07-20T21:05:33.841771Z"
    },
    "papermill": {
     "duration": 0.05729,
     "end_time": "2021-07-20T22:21:56.630633",
     "exception": false,
     "start_time": "2021-07-20T22:21:56.573343",
     "status": "completed"
    },
    "tags": []
   },
   "outputs": [
    {
     "data": {
      "text/plain": [
       "Id                                    0\n",
       "Elevation                             0\n",
       "Aspect                                0\n",
       "Slope                                 0\n",
       "Horizontal_Distance_To_Hydrology      0\n",
       "Vertical_Distance_To_Hydrology        0\n",
       "Horizontal_Distance_To_Roadways       0\n",
       "Hillshade_9am                         0\n",
       "Hillshade_Noon                        0\n",
       "Hillshade_3pm                         0\n",
       "Horizontal_Distance_To_Fire_Points    0\n",
       "Wilderness_Area1                      0\n",
       "Wilderness_Area2                      0\n",
       "Wilderness_Area3                      0\n",
       "Wilderness_Area4                      0\n",
       "Soil_Type1                            0\n",
       "Soil_Type2                            0\n",
       "Soil_Type3                            0\n",
       "Soil_Type4                            0\n",
       "Soil_Type5                            0\n",
       "Soil_Type6                            0\n",
       "Soil_Type7                            0\n",
       "Soil_Type8                            0\n",
       "Soil_Type9                            0\n",
       "Soil_Type10                           0\n",
       "Soil_Type11                           0\n",
       "Soil_Type12                           0\n",
       "Soil_Type13                           0\n",
       "Soil_Type14                           0\n",
       "Soil_Type15                           0\n",
       "Soil_Type16                           0\n",
       "Soil_Type17                           0\n",
       "Soil_Type18                           0\n",
       "Soil_Type19                           0\n",
       "Soil_Type20                           0\n",
       "Soil_Type21                           0\n",
       "Soil_Type22                           0\n",
       "Soil_Type23                           0\n",
       "Soil_Type24                           0\n",
       "Soil_Type25                           0\n",
       "Soil_Type26                           0\n",
       "Soil_Type27                           0\n",
       "Soil_Type28                           0\n",
       "Soil_Type29                           0\n",
       "Soil_Type30                           0\n",
       "Soil_Type31                           0\n",
       "Soil_Type32                           0\n",
       "Soil_Type33                           0\n",
       "Soil_Type34                           0\n",
       "Soil_Type35                           0\n",
       "Soil_Type36                           0\n",
       "Soil_Type37                           0\n",
       "Soil_Type38                           0\n",
       "Soil_Type39                           0\n",
       "Soil_Type40                           0\n",
       "Cover_Type                            0\n",
       "dtype: int64"
      ]
     },
     "execution_count": 6,
     "metadata": {},
     "output_type": "execute_result"
    }
   ],
   "source": [
    "#Checking for any na values\n",
    "all_data.isna().sum()\n",
    "#Result says we have none"
   ]
  },
  {
   "cell_type": "code",
   "execution_count": 7,
   "metadata": {
    "execution": {
     "iopub.execute_input": "2021-07-20T22:21:56.730448Z",
     "iopub.status.busy": "2021-07-20T22:21:56.729732Z",
     "iopub.status.idle": "2021-07-20T22:21:56.900461Z",
     "shell.execute_reply": "2021-07-20T22:21:56.899878Z",
     "shell.execute_reply.started": "2021-07-20T21:05:33.855793Z"
    },
    "papermill": {
     "duration": 0.225553,
     "end_time": "2021-07-20T22:21:56.900602",
     "exception": false,
     "start_time": "2021-07-20T22:21:56.675049",
     "status": "completed"
    },
    "tags": []
   },
   "outputs": [
    {
     "data": {
      "text/html": [
       "<div>\n",
       "<style scoped>\n",
       "    .dataframe tbody tr th:only-of-type {\n",
       "        vertical-align: middle;\n",
       "    }\n",
       "\n",
       "    .dataframe tbody tr th {\n",
       "        vertical-align: top;\n",
       "    }\n",
       "\n",
       "    .dataframe thead th {\n",
       "        text-align: right;\n",
       "    }\n",
       "</style>\n",
       "<table border=\"1\" class=\"dataframe\">\n",
       "  <thead>\n",
       "    <tr style=\"text-align: right;\">\n",
       "      <th></th>\n",
       "      <th>Id</th>\n",
       "      <th>Elevation</th>\n",
       "      <th>Aspect</th>\n",
       "      <th>Slope</th>\n",
       "      <th>Horizontal_Distance_To_Hydrology</th>\n",
       "      <th>Vertical_Distance_To_Hydrology</th>\n",
       "      <th>Horizontal_Distance_To_Roadways</th>\n",
       "      <th>Hillshade_9am</th>\n",
       "      <th>Hillshade_Noon</th>\n",
       "      <th>Hillshade_3pm</th>\n",
       "      <th>...</th>\n",
       "      <th>Soil_Type32</th>\n",
       "      <th>Soil_Type33</th>\n",
       "      <th>Soil_Type34</th>\n",
       "      <th>Soil_Type35</th>\n",
       "      <th>Soil_Type36</th>\n",
       "      <th>Soil_Type37</th>\n",
       "      <th>Soil_Type38</th>\n",
       "      <th>Soil_Type39</th>\n",
       "      <th>Soil_Type40</th>\n",
       "      <th>Cover_Type</th>\n",
       "    </tr>\n",
       "  </thead>\n",
       "  <tbody>\n",
       "    <tr>\n",
       "      <th>count</th>\n",
       "      <td>15120.00000</td>\n",
       "      <td>15120.000000</td>\n",
       "      <td>15120.000000</td>\n",
       "      <td>15120.000000</td>\n",
       "      <td>15120.000000</td>\n",
       "      <td>15120.000000</td>\n",
       "      <td>15120.000000</td>\n",
       "      <td>15120.000000</td>\n",
       "      <td>15120.000000</td>\n",
       "      <td>15120.000000</td>\n",
       "      <td>...</td>\n",
       "      <td>15120.000000</td>\n",
       "      <td>15120.000000</td>\n",
       "      <td>15120.000000</td>\n",
       "      <td>15120.000000</td>\n",
       "      <td>15120.000000</td>\n",
       "      <td>15120.000000</td>\n",
       "      <td>15120.000000</td>\n",
       "      <td>15120.000000</td>\n",
       "      <td>15120.000000</td>\n",
       "      <td>15120.000000</td>\n",
       "    </tr>\n",
       "    <tr>\n",
       "      <th>mean</th>\n",
       "      <td>7560.50000</td>\n",
       "      <td>2749.322553</td>\n",
       "      <td>156.676653</td>\n",
       "      <td>16.501587</td>\n",
       "      <td>227.195701</td>\n",
       "      <td>51.076521</td>\n",
       "      <td>1714.023214</td>\n",
       "      <td>212.704299</td>\n",
       "      <td>218.965608</td>\n",
       "      <td>135.091997</td>\n",
       "      <td>...</td>\n",
       "      <td>0.045635</td>\n",
       "      <td>0.040741</td>\n",
       "      <td>0.001455</td>\n",
       "      <td>0.006746</td>\n",
       "      <td>0.000661</td>\n",
       "      <td>0.002249</td>\n",
       "      <td>0.048148</td>\n",
       "      <td>0.043452</td>\n",
       "      <td>0.030357</td>\n",
       "      <td>4.000000</td>\n",
       "    </tr>\n",
       "    <tr>\n",
       "      <th>std</th>\n",
       "      <td>4364.91237</td>\n",
       "      <td>417.678187</td>\n",
       "      <td>110.085801</td>\n",
       "      <td>8.453927</td>\n",
       "      <td>210.075296</td>\n",
       "      <td>61.239406</td>\n",
       "      <td>1325.066358</td>\n",
       "      <td>30.561287</td>\n",
       "      <td>22.801966</td>\n",
       "      <td>45.895189</td>\n",
       "      <td>...</td>\n",
       "      <td>0.208699</td>\n",
       "      <td>0.197696</td>\n",
       "      <td>0.038118</td>\n",
       "      <td>0.081859</td>\n",
       "      <td>0.025710</td>\n",
       "      <td>0.047368</td>\n",
       "      <td>0.214086</td>\n",
       "      <td>0.203880</td>\n",
       "      <td>0.171574</td>\n",
       "      <td>2.000066</td>\n",
       "    </tr>\n",
       "    <tr>\n",
       "      <th>min</th>\n",
       "      <td>1.00000</td>\n",
       "      <td>1863.000000</td>\n",
       "      <td>0.000000</td>\n",
       "      <td>0.000000</td>\n",
       "      <td>0.000000</td>\n",
       "      <td>-146.000000</td>\n",
       "      <td>0.000000</td>\n",
       "      <td>0.000000</td>\n",
       "      <td>99.000000</td>\n",
       "      <td>0.000000</td>\n",
       "      <td>...</td>\n",
       "      <td>0.000000</td>\n",
       "      <td>0.000000</td>\n",
       "      <td>0.000000</td>\n",
       "      <td>0.000000</td>\n",
       "      <td>0.000000</td>\n",
       "      <td>0.000000</td>\n",
       "      <td>0.000000</td>\n",
       "      <td>0.000000</td>\n",
       "      <td>0.000000</td>\n",
       "      <td>1.000000</td>\n",
       "    </tr>\n",
       "    <tr>\n",
       "      <th>25%</th>\n",
       "      <td>3780.75000</td>\n",
       "      <td>2376.000000</td>\n",
       "      <td>65.000000</td>\n",
       "      <td>10.000000</td>\n",
       "      <td>67.000000</td>\n",
       "      <td>5.000000</td>\n",
       "      <td>764.000000</td>\n",
       "      <td>196.000000</td>\n",
       "      <td>207.000000</td>\n",
       "      <td>106.000000</td>\n",
       "      <td>...</td>\n",
       "      <td>0.000000</td>\n",
       "      <td>0.000000</td>\n",
       "      <td>0.000000</td>\n",
       "      <td>0.000000</td>\n",
       "      <td>0.000000</td>\n",
       "      <td>0.000000</td>\n",
       "      <td>0.000000</td>\n",
       "      <td>0.000000</td>\n",
       "      <td>0.000000</td>\n",
       "      <td>2.000000</td>\n",
       "    </tr>\n",
       "    <tr>\n",
       "      <th>50%</th>\n",
       "      <td>7560.50000</td>\n",
       "      <td>2752.000000</td>\n",
       "      <td>126.000000</td>\n",
       "      <td>15.000000</td>\n",
       "      <td>180.000000</td>\n",
       "      <td>32.000000</td>\n",
       "      <td>1316.000000</td>\n",
       "      <td>220.000000</td>\n",
       "      <td>223.000000</td>\n",
       "      <td>138.000000</td>\n",
       "      <td>...</td>\n",
       "      <td>0.000000</td>\n",
       "      <td>0.000000</td>\n",
       "      <td>0.000000</td>\n",
       "      <td>0.000000</td>\n",
       "      <td>0.000000</td>\n",
       "      <td>0.000000</td>\n",
       "      <td>0.000000</td>\n",
       "      <td>0.000000</td>\n",
       "      <td>0.000000</td>\n",
       "      <td>4.000000</td>\n",
       "    </tr>\n",
       "    <tr>\n",
       "      <th>75%</th>\n",
       "      <td>11340.25000</td>\n",
       "      <td>3104.000000</td>\n",
       "      <td>261.000000</td>\n",
       "      <td>22.000000</td>\n",
       "      <td>330.000000</td>\n",
       "      <td>79.000000</td>\n",
       "      <td>2270.000000</td>\n",
       "      <td>235.000000</td>\n",
       "      <td>235.000000</td>\n",
       "      <td>167.000000</td>\n",
       "      <td>...</td>\n",
       "      <td>0.000000</td>\n",
       "      <td>0.000000</td>\n",
       "      <td>0.000000</td>\n",
       "      <td>0.000000</td>\n",
       "      <td>0.000000</td>\n",
       "      <td>0.000000</td>\n",
       "      <td>0.000000</td>\n",
       "      <td>0.000000</td>\n",
       "      <td>0.000000</td>\n",
       "      <td>6.000000</td>\n",
       "    </tr>\n",
       "    <tr>\n",
       "      <th>max</th>\n",
       "      <td>15120.00000</td>\n",
       "      <td>3849.000000</td>\n",
       "      <td>360.000000</td>\n",
       "      <td>52.000000</td>\n",
       "      <td>1343.000000</td>\n",
       "      <td>554.000000</td>\n",
       "      <td>6890.000000</td>\n",
       "      <td>254.000000</td>\n",
       "      <td>254.000000</td>\n",
       "      <td>248.000000</td>\n",
       "      <td>...</td>\n",
       "      <td>1.000000</td>\n",
       "      <td>1.000000</td>\n",
       "      <td>1.000000</td>\n",
       "      <td>1.000000</td>\n",
       "      <td>1.000000</td>\n",
       "      <td>1.000000</td>\n",
       "      <td>1.000000</td>\n",
       "      <td>1.000000</td>\n",
       "      <td>1.000000</td>\n",
       "      <td>7.000000</td>\n",
       "    </tr>\n",
       "  </tbody>\n",
       "</table>\n",
       "<p>8 rows × 56 columns</p>\n",
       "</div>"
      ],
      "text/plain": [
       "                Id     Elevation        Aspect         Slope  \\\n",
       "count  15120.00000  15120.000000  15120.000000  15120.000000   \n",
       "mean    7560.50000   2749.322553    156.676653     16.501587   \n",
       "std     4364.91237    417.678187    110.085801      8.453927   \n",
       "min        1.00000   1863.000000      0.000000      0.000000   \n",
       "25%     3780.75000   2376.000000     65.000000     10.000000   \n",
       "50%     7560.50000   2752.000000    126.000000     15.000000   \n",
       "75%    11340.25000   3104.000000    261.000000     22.000000   \n",
       "max    15120.00000   3849.000000    360.000000     52.000000   \n",
       "\n",
       "       Horizontal_Distance_To_Hydrology  Vertical_Distance_To_Hydrology  \\\n",
       "count                      15120.000000                    15120.000000   \n",
       "mean                         227.195701                       51.076521   \n",
       "std                          210.075296                       61.239406   \n",
       "min                            0.000000                     -146.000000   \n",
       "25%                           67.000000                        5.000000   \n",
       "50%                          180.000000                       32.000000   \n",
       "75%                          330.000000                       79.000000   \n",
       "max                         1343.000000                      554.000000   \n",
       "\n",
       "       Horizontal_Distance_To_Roadways  Hillshade_9am  Hillshade_Noon  \\\n",
       "count                     15120.000000   15120.000000    15120.000000   \n",
       "mean                       1714.023214     212.704299      218.965608   \n",
       "std                        1325.066358      30.561287       22.801966   \n",
       "min                           0.000000       0.000000       99.000000   \n",
       "25%                         764.000000     196.000000      207.000000   \n",
       "50%                        1316.000000     220.000000      223.000000   \n",
       "75%                        2270.000000     235.000000      235.000000   \n",
       "max                        6890.000000     254.000000      254.000000   \n",
       "\n",
       "       Hillshade_3pm  ...   Soil_Type32   Soil_Type33   Soil_Type34  \\\n",
       "count   15120.000000  ...  15120.000000  15120.000000  15120.000000   \n",
       "mean      135.091997  ...      0.045635      0.040741      0.001455   \n",
       "std        45.895189  ...      0.208699      0.197696      0.038118   \n",
       "min         0.000000  ...      0.000000      0.000000      0.000000   \n",
       "25%       106.000000  ...      0.000000      0.000000      0.000000   \n",
       "50%       138.000000  ...      0.000000      0.000000      0.000000   \n",
       "75%       167.000000  ...      0.000000      0.000000      0.000000   \n",
       "max       248.000000  ...      1.000000      1.000000      1.000000   \n",
       "\n",
       "        Soil_Type35   Soil_Type36   Soil_Type37   Soil_Type38   Soil_Type39  \\\n",
       "count  15120.000000  15120.000000  15120.000000  15120.000000  15120.000000   \n",
       "mean       0.006746      0.000661      0.002249      0.048148      0.043452   \n",
       "std        0.081859      0.025710      0.047368      0.214086      0.203880   \n",
       "min        0.000000      0.000000      0.000000      0.000000      0.000000   \n",
       "25%        0.000000      0.000000      0.000000      0.000000      0.000000   \n",
       "50%        0.000000      0.000000      0.000000      0.000000      0.000000   \n",
       "75%        0.000000      0.000000      0.000000      0.000000      0.000000   \n",
       "max        1.000000      1.000000      1.000000      1.000000      1.000000   \n",
       "\n",
       "        Soil_Type40    Cover_Type  \n",
       "count  15120.000000  15120.000000  \n",
       "mean       0.030357      4.000000  \n",
       "std        0.171574      2.000066  \n",
       "min        0.000000      1.000000  \n",
       "25%        0.000000      2.000000  \n",
       "50%        0.000000      4.000000  \n",
       "75%        0.000000      6.000000  \n",
       "max        1.000000      7.000000  \n",
       "\n",
       "[8 rows x 56 columns]"
      ]
     },
     "execution_count": 7,
     "metadata": {},
     "output_type": "execute_result"
    }
   ],
   "source": [
    "#looking for outliers or miscoded values\n",
    "all_data.describe()"
   ]
  },
  {
   "cell_type": "code",
   "execution_count": 8,
   "metadata": {
    "execution": {
     "iopub.execute_input": "2021-07-20T22:21:56.997623Z",
     "iopub.status.busy": "2021-07-20T22:21:56.996951Z",
     "iopub.status.idle": "2021-07-20T22:21:57.376098Z",
     "shell.execute_reply": "2021-07-20T22:21:57.375557Z",
     "shell.execute_reply.started": "2021-07-20T21:05:34.039452Z"
    },
    "papermill": {
     "duration": 0.430587,
     "end_time": "2021-07-20T22:21:57.376256",
     "exception": false,
     "start_time": "2021-07-20T22:21:56.945669",
     "status": "completed"
    },
    "tags": []
   },
   "outputs": [
    {
     "data": {
      "image/png": "[encoded data removed]",
      "text/plain": [
       "<Figure size 432x288 with 1 Axes>"
      ]
     },
     "metadata": {},
     "output_type": "display_data"
    }
   ],
   "source": [
    "sns.set_theme(style=\"darkgrid\")\n",
    "ax = sns.countplot(x=\"Cover_Type\", data=all_data)"
   ]
  },
  {
   "cell_type": "code",
   "execution_count": 9,
   "metadata": {
    "execution": {
     "iopub.execute_input": "2021-07-20T22:21:57.497906Z",
     "iopub.status.busy": "2021-07-20T22:21:57.497279Z",
     "iopub.status.idle": "2021-07-20T22:22:00.293066Z",
     "shell.execute_reply": "2021-07-20T22:22:00.293590Z",
     "shell.execute_reply.started": "2021-07-20T21:05:34.430286Z"
    },
    "papermill": {
     "duration": 2.871457,
     "end_time": "2021-07-20T22:22:00.293762",
     "exception": false,
     "start_time": "2021-07-20T22:21:57.422305",
     "status": "completed"
    },
    "tags": []
   },
   "outputs": [
    {
     "data": {
      "image/png": "[encoded data removed]",
      "text/plain": [
       "<Figure size 1800x2880 with 10 Axes>"
      ]
     },
     "metadata": {},
     "output_type": "display_data"
    }
   ],
   "source": [
    "#Next lets look at the distribution of the numeric variables across cover types.\n",
    "plotcount=10\n",
    "fig, axes = plt.subplots(nrows = 5,ncols = 2,figsize = (25,40))\n",
    "for i in range(0,plotcount):\n",
    "    row = i // 2\n",
    "    col = i % 2\n",
    "    ax1 = axes[row, col]\n",
    "    sns.boxplot(x=\"Cover_Type\", y=all_data.columns[i+1], data=all_data,ax=ax1);"
   ]
  },
  {
   "cell_type": "code",
   "execution_count": 10,
   "metadata": {
    "execution": {
     "iopub.execute_input": "2021-07-20T22:22:00.401502Z",
     "iopub.status.busy": "2021-07-20T22:22:00.400798Z",
     "iopub.status.idle": "2021-07-20T22:22:00.871106Z",
     "shell.execute_reply": "2021-07-20T22:22:00.871692Z",
     "shell.execute_reply.started": "2021-07-20T21:05:37.27732Z"
    },
    "papermill": {
     "duration": 0.527049,
     "end_time": "2021-07-20T22:22:00.871883",
     "exception": false,
     "start_time": "2021-07-20T22:22:00.344834",
     "status": "completed"
    },
    "tags": []
   },
   "outputs": [
    {
     "data": {
      "image/png": "[encoded data removed]",
      "text/plain": [
       "<Figure size 864x648 with 2 Axes>"
      ]
     },
     "metadata": {},
     "output_type": "display_data"
    }
   ],
   "source": [
    "#let's look at the numeric predictor variables and see which are correlated\n",
    "correlations = all_data.iloc[:,1:11].corr()\n",
    "f, ax = plt.subplots(figsize=(12, 9))\n",
    "sns.heatmap(correlations, vmax=.8, square=True);"
   ]
  },
  {
   "cell_type": "code",
   "execution_count": 11,
   "metadata": {
    "execution": {
     "iopub.execute_input": "2021-07-20T22:22:00.989337Z",
     "iopub.status.busy": "2021-07-20T22:22:00.988646Z",
     "iopub.status.idle": "2021-07-20T22:22:04.004655Z",
     "shell.execute_reply": "2021-07-20T22:22:04.005161Z",
     "shell.execute_reply.started": "2021-07-20T21:05:37.730818Z"
    },
    "papermill": {
     "duration": 3.079612,
     "end_time": "2021-07-20T22:22:04.005351",
     "exception": false,
     "start_time": "2021-07-20T22:22:00.925739",
     "status": "completed"
    },
    "tags": []
   },
   "outputs": [
    {
     "name": "stdout",
     "output_type": "stream",
     "text": [
      "0        Soil_Type29\n",
      "1        Soil_Type29\n",
      "2        Soil_Type12\n",
      "3        Soil_Type30\n",
      "4        Soil_Type29\n",
      "            ...     \n",
      "15115     Soil_Type4\n",
      "15116     Soil_Type4\n",
      "15117     Soil_Type4\n",
      "15118     Soil_Type4\n",
      "15119     Soil_Type2\n",
      "Length: 15120, dtype: object\n"
     ]
    },
    {
     "data": {
      "text/plain": [
       "<AxesSubplot:xlabel='soil'>"
      ]
     },
     "execution_count": 11,
     "metadata": {},
     "output_type": "execute_result"
    },
    {
     "data": {
      "image/png": "[encoded data removed]",
      "text/plain": [
       "<Figure size 1800x3240 with 3 Axes>"
      ]
     },
     "metadata": {},
     "output_type": "display_data"
    }
   ],
   "source": [
    "soil_type = all_data.iloc[:,15:55]\n",
    "soil_type = pd.DataFrame(soil_type)\n",
    "soil_col = pd.Series(soil_type.columns[np.where(soil_type == 1)[1]])\n",
    "print(soil_col)\n",
    "\n",
    "wild_type = all_data.iloc[:,11:15]\n",
    "wild_type = pd.DataFrame(wild_type)\n",
    "wild_col = pd.Series(wild_type.columns[np.where(wild_type == 1)[1]])\n",
    "\n",
    "import copy\n",
    "\n",
    "plot_data = copy.deepcopy(all_data)\n",
    "plot_data['soil'] = soil_col\n",
    "plot_data['wilderness'] = wild_col\n",
    "\n",
    "fig, axes = plt.subplots(nrows = 3,ncols = 1,figsize = (25,45))\n",
    "\n",
    "ax1 = axes[0]\n",
    "pd.crosstab(plot_data.soil, plot_data.wilderness).plot.bar(stacked = True, ax = ax1)\n",
    "\n",
    "ax2 = axes[1]\n",
    "pd.crosstab(plot_data.wilderness, plot_data.Cover_Type).plot.bar(stacked = True, ax = ax2)\n",
    "\n",
    "ax3 = axes[2]\n",
    "pd.crosstab(plot_data.soil, plot_data.Cover_Type).plot.bar(stacked = True, ax = ax3)"
   ]
  },
  {
   "cell_type": "markdown",
   "metadata": {
    "papermill": {
     "duration": 0.056768,
     "end_time": "2021-07-20T22:22:04.120187",
     "exception": false,
     "start_time": "2021-07-20T22:22:04.063419",
     "status": "completed"
    },
    "tags": []
   },
   "source": [
    "**new markdown cell by JK**\n",
    "\n",
    "In order to make continuous variable comparable to the binary features, we will be using `preprocessing.MinMaxScaler`, to standardize them by scaling each feature to a given range; [0,1].\n",
    "This can help in `Logistic regression` model and `kNN` model.\n",
    "\n",
    "We also use `preprocessing.StandardScaler`, to standardize 10 continuous feature by moving the mean and scaling to unit variance),\n",
    "\n",
    "With scaled features, there is no surity that the model results will improve, although it is mandatory in this case, since the dataset is a combination of continuous and binary features."
   ]
  },
  {
   "cell_type": "code",
   "execution_count": 12,
   "metadata": {
    "execution": {
     "iopub.execute_input": "2021-07-20T22:22:04.244720Z",
     "iopub.status.busy": "2021-07-20T22:22:04.244033Z",
     "iopub.status.idle": "2021-07-20T22:22:09.242753Z",
     "shell.execute_reply": "2021-07-20T22:22:09.243238Z",
     "shell.execute_reply.started": "2021-07-20T21:05:40.817795Z"
    },
    "papermill": {
     "duration": 5.067013,
     "end_time": "2021-07-20T22:22:09.243418",
     "exception": false,
     "start_time": "2021-07-20T22:22:04.176405",
     "status": "completed"
    },
    "tags": []
   },
   "outputs": [
    {
     "name": "stdout",
     "output_type": "stream",
     "text": [
      "(10130, 54)\n"
     ]
    }
   ],
   "source": [
    "#new cell added by JK\n",
    "# Scale to mean = 0, sd = 1 using StandardScaler\n",
    "from sklearn.preprocessing import MinMaxScaler\n",
    "from sklearn.preprocessing import StandardScaler\n",
    "std_scaler = preprocessing.StandardScaler()\n",
    "\n",
    "train_data_std = copy.deepcopy(train_data)\n",
    "dev_data_std = copy.deepcopy(dev_data)\n",
    "test_data_std = copy.deepcopy(test_data)\n",
    "\n",
    "# only for the continuous features (first 10 columns in the train_data, dev_data and test_data)\n",
    "train_data_std.iloc[:, :10] = std_scaler.fit_transform(train_data_std.iloc[:, :10])\n",
    "dev_data_std.iloc[:, :10] = std_scaler.transform(dev_data_std.iloc[:, :10])\n",
    "test_data_std.iloc[:, :10] = std_scaler.transform(test_data_std.iloc[:, :10])\n",
    "\n",
    "# Scale to range [0,1] using MinMaxScaler\n",
    "min_max_scaler = preprocessing.MinMaxScaler()\n",
    "\n",
    "train_data_minmax = copy.deepcopy(train_data)\n",
    "dev_data_minmax = copy.deepcopy(dev_data)\n",
    "test_data_minmax = copy.deepcopy(test_data)\n",
    "\n",
    "# Only for the continuous features (first 10 columns in the train_data, dev_data and test_data)\n",
    "train_data_minmax.iloc[:, :10] = min_max_scaler.fit_transform(train_data.iloc[:, :10])\n",
    "dev_data_minmax.iloc[:, :10] = min_max_scaler.transform(dev_data.iloc[:, :10])\n",
    "test_data_minmax.iloc[:, :10] = min_max_scaler.transform(test_data.iloc[:, :10])\n",
    "\n",
    "# Feature Binarization is the process of thresholding numerical features to get boolean values,(first 10 columns in the train_data, dev_data and test_data, since they are non-binary features)\n",
    "# Binarize feature values to either 0 or 1, using binarizer\n",
    "binarizer = preprocessing.Binarizer()\n",
    "\n",
    "train_data_b = copy.deepcopy(train_data)\n",
    "dev_data_b = copy.deepcopy(dev_data)\n",
    "test_data_b = copy.deepcopy(test_data)\n",
    "\n",
    "# Only for the continuous features (first 10 columns in the train_data, dev_data and test_data)\n",
    "train_data_b.iloc[:, :10] = binarizer.fit_transform(train_data.iloc[:, :10])\n",
    "dev_data_b.iloc[:, :10] = binarizer.transform(dev_data.iloc[:, :10])\n",
    "test_data_b.iloc[:, :10] = binarizer.transform(test_data.iloc[:, :10])\n",
    "\n",
    "print(train_data_b.shape)\n",
    "#print(train_data_b.head())\n"
   ]
  },
  {
   "cell_type": "markdown",
   "metadata": {
    "papermill": {
     "duration": 0.058649,
     "end_time": "2021-07-20T22:22:09.360302",
     "exception": false,
     "start_time": "2021-07-20T22:22:09.301653",
     "status": "completed"
    },
    "tags": []
   },
   "source": [
    "# k-Nearest Neighbors(kNN)"
   ]
  },
  {
   "cell_type": "markdown",
   "metadata": {
    "papermill": {
     "duration": 0.057232,
     "end_time": "2021-07-20T22:22:09.475533",
     "exception": false,
     "start_time": "2021-07-20T22:22:09.418301",
     "status": "completed"
    },
    "tags": []
   },
   "source": [
    "JK\n",
    "\n",
    "*Let's run an experiment with Nearest Neighbors classifier, using fit() and predict() methods from the sklearn classifier implementations.*"
   ]
  },
  {
   "cell_type": "code",
   "execution_count": 13,
   "metadata": {
    "execution": {
     "iopub.execute_input": "2021-07-20T22:22:09.596711Z",
     "iopub.status.busy": "2021-07-20T22:22:09.596009Z",
     "iopub.status.idle": "2021-07-20T22:22:32.275583Z",
     "shell.execute_reply": "2021-07-20T22:22:32.276358Z",
     "shell.execute_reply.started": "2021-07-20T21:05:46.131305Z"
    },
    "papermill": {
     "duration": 22.743675,
     "end_time": "2021-07-20T22:22:32.276587",
     "exception": false,
     "start_time": "2021-07-20T22:22:09.532912",
     "status": "completed"
    },
    "tags": []
   },
   "outputs": [
    {
     "name": "stdout",
     "output_type": "stream",
     "text": [
      "The optimal value for k is 1\n"
     ]
    }
   ],
   "source": [
    "#JK\n",
    "# Estimate by cross-validation of the optimal number of neighbors (k)\n",
    "# Try between 1 and the number of features (54)\n",
    "#k = {'n_neighbors': np.concatenate([np.arange(1, train_data.shape[1]+1)]).tolist()}\n",
    "# The optimal value is low, so let's narrow the search from 1 to 11\n",
    "k = {'n_neighbors': np.concatenate([np.arange(1, 10+1)]).tolist()}\n",
    "best_param_kNN = GridSearchCV(KNeighborsClassifier(), k, scoring='accuracy')\n",
    "best_param_kNN.fit(train_data, train_label)\n",
    "optimal_k = best_param_kNN.best_params_['n_neighbors']\n",
    "print ('The optimal value for k is {0}'.format(optimal_k))"
   ]
  },
  {
   "cell_type": "code",
   "execution_count": 14,
   "metadata": {
    "execution": {
     "iopub.execute_input": "2021-07-20T22:22:32.408395Z",
     "iopub.status.busy": "2021-07-20T22:22:32.407326Z",
     "iopub.status.idle": "2021-07-20T22:22:34.777124Z",
     "shell.execute_reply": "2021-07-20T22:22:34.776565Z",
     "shell.execute_reply.started": "2021-07-20T21:06:08.934275Z"
    },
    "papermill": {
     "duration": 2.440172,
     "end_time": "2021-07-20T22:22:34.777273",
     "exception": false,
     "start_time": "2021-07-20T22:22:32.337101",
     "status": "completed"
    },
    "tags": []
   },
   "outputs": [
    {
     "name": "stdout",
     "output_type": "stream",
     "text": [
      "Accuracy using non-scaled data:      0.8357\n",
      "Accuracy using standardized data:    0.7974\n",
      "Accuracy using scaled-to-range data: 0.8058\n"
     ]
    }
   ],
   "source": [
    "#JK\n",
    "# first approach of finding kNN with different data manipulations\n",
    "kNN = KNeighborsClassifier(n_neighbors=optimal_k)\n",
    "\n",
    "kNN.fit(train_data, train_label)\n",
    "print ('Accuracy using non-scaled data:      {0:.4f}'.format(kNN.score(dev_data, dev_label)))\n",
    "\n",
    "kNN.fit(train_data_std, train_label)\n",
    "print ('Accuracy using standardized data:    {0:.4f}'.format(kNN.score(dev_data_std, dev_label)))\n",
    "\n",
    "kNN.fit(train_data_minmax, train_label)\n",
    "print ('Accuracy using scaled-to-range data: {0:.4f}'.format(kNN.score(dev_data_minmax, dev_label)))"
   ]
  },
  {
   "cell_type": "markdown",
   "metadata": {
    "papermill": {
     "duration": 0.057472,
     "end_time": "2021-07-20T22:22:34.893366",
     "exception": false,
     "start_time": "2021-07-20T22:22:34.835894",
     "status": "completed"
    },
    "tags": []
   },
   "source": [
    "As we can see, the model performed better with non-scaled data, although the optimal k was searched above using non-scaled data, if we calculate optimal-k even with standardized or scale_to_range data, it gives the same result.\n",
    "\n",
    "**We will proceed with the accuracy result from kNN as our baseline and will try to meet or improve the baseline using different classifiers below.**"
   ]
  },
  {
   "cell_type": "code",
   "execution_count": 15,
   "metadata": {
    "execution": {
     "iopub.execute_input": "2021-07-20T22:22:35.019526Z",
     "iopub.status.busy": "2021-07-20T22:22:35.018810Z",
     "iopub.status.idle": "2021-07-20T22:22:36.271291Z",
     "shell.execute_reply": "2021-07-20T22:22:36.270687Z",
     "shell.execute_reply.started": "2021-07-20T21:06:11.374807Z"
    },
    "papermill": {
     "duration": 1.320102,
     "end_time": "2021-07-20T22:22:36.271431",
     "exception": false,
     "start_time": "2021-07-20T22:22:34.951329",
     "status": "completed"
    },
    "tags": []
   },
   "outputs": [
    {
     "name": "stdout",
     "output_type": "stream",
     "text": [
      "For the model with 1 Nearest Neighbors:\n",
      "total: 4990  correct: 4170  accuracy: 0.84\n",
      "\n",
      "For the model with 3 Nearest Neighbors:\n",
      "total: 4990  correct: 4061  accuracy: 0.81\n",
      "\n",
      "For the model with 5 Nearest Neighbors:\n",
      "total: 4990  correct: 3980  accuracy: 0.80\n",
      "\n",
      "For the model with 7 Nearest Neighbors:\n",
      "total: 4990  correct: 3928  accuracy: 0.79\n",
      "\n",
      "For the model with 9 Nearest Neighbors:\n",
      "total: 4990  correct: 3858  accuracy: 0.77\n",
      "\n"
     ]
    }
   ],
   "source": [
    "#JK\n",
    "# second approach of finding kNN without finding the optimal value first\n",
    "#Here are our K values to try\n",
    "k_values = [1, 3, 5, 7, 9]\n",
    "\n",
    "for i in k_values:\n",
    "    clf = KNeighborsClassifier(n_neighbors = i)\n",
    "    clf.fit(train_data.iloc[:, :10], train_label)\n",
    "    #clf.fit(train_data, train_label)\n",
    "    # Predict on the dev data\n",
    "    preds = clf.predict(dev_data.iloc[:, :10])\n",
    "    #preds = clf.predict(dev_data)\n",
    "\n",
    "    # And calculate the accuracy by comparing it to the labels\n",
    "    correct, total = 0, 0\n",
    "    for pred, label in zip(preds, dev_label):\n",
    "        if pred == label: \n",
    "            correct += 1\n",
    "        total += 1\n",
    "\n",
    "    # Finally we print the outcomes\n",
    "    Outcome = [\"For the model with\", str(i), \"Nearest Neighbors:\"]\n",
    "    print(\" \".join(Outcome))\n",
    "    print ('total: %3d  correct: %3d  accuracy: %3.2f' %(total, correct, 1.0*correct/total))\n",
    "    print()"
   ]
  },
  {
   "cell_type": "markdown",
   "metadata": {
    "papermill": {
     "duration": 0.05912,
     "end_time": "2021-07-20T22:22:36.390125",
     "exception": false,
     "start_time": "2021-07-20T22:22:36.331005",
     "status": "completed"
    },
    "tags": []
   },
   "source": [
    "# Decision Tree"
   ]
  },
  {
   "cell_type": "markdown",
   "metadata": {
    "papermill": {
     "duration": 0.059481,
     "end_time": "2021-07-20T22:22:36.509059",
     "exception": false,
     "start_time": "2021-07-20T22:22:36.449578",
     "status": "completed"
    },
    "tags": []
   },
   "source": [
    "In order to properly utilize the Decision Tree Algorithm, our first task is to binarize the data. For most of our variables, this is fairly easy, as they are already structured as binary indicator variables. For our remaining numeric variables, we need to look at the distribution of our data to see if there are natural breakpoints we can utilize."
   ]
  },
  {
   "cell_type": "code",
   "execution_count": 16,
   "metadata": {
    "execution": {
     "iopub.execute_input": "2021-07-20T22:22:36.691552Z",
     "iopub.status.busy": "2021-07-20T22:22:36.670804Z",
     "iopub.status.idle": "2021-07-20T22:22:39.993949Z",
     "shell.execute_reply": "2021-07-20T22:22:39.994460Z",
     "shell.execute_reply.started": "2021-07-20T21:06:12.641151Z"
    },
    "papermill": {
     "duration": 3.425706,
     "end_time": "2021-07-20T22:22:39.994622",
     "exception": false,
     "start_time": "2021-07-20T22:22:36.568916",
     "status": "completed"
    },
    "tags": []
   },
   "outputs": [
    {
     "data": {
      "image/png": "[encoded data removed]",
      "text/plain": [
       "<Figure size 1800x2880 with 10 Axes>"
      ]
     },
     "metadata": {},
     "output_type": "display_data"
    }
   ],
   "source": [
    "plotcount=10\n",
    "fig, axes = plt.subplots(nrows = 5,ncols = 2,figsize = (25,40))\n",
    "for i in range(0,plotcount):\n",
    "    row = i // 2\n",
    "    col = i % 2\n",
    "    ax1 = axes[row, col]\n",
    "    sns.histplot(y=all_data.columns[i+1], data=all_data,ax=ax1);"
   ]
  },
  {
   "cell_type": "markdown",
   "metadata": {
    "papermill": {
     "duration": 0.081457,
     "end_time": "2021-07-20T22:22:40.139924",
     "exception": false,
     "start_time": "2021-07-20T22:22:40.058467",
     "status": "completed"
    },
    "tags": []
   },
   "source": [
    "It looks like some of our variables have nature breakpoints, while others have a fairly smooth distribution.\n",
    "\n",
    "The variables with obvious breakpoints are:\n",
    "* Elevation: Elevation looks to have 3 groups, one from 0 to about 2625, one from 2625 to 3125 and one for 3125 and above\n",
    "* Aspect: Aspect seems to be split into two groups right at 250\n",
    "* Slope: Slope has a gap at 26 degrees. We can try breaking here\n",
    "* Horizontal_Distance_To_Hydrology: This seems to have a large amount of data below 100 feet, and a long tail above that\n",
    "* Vertical_Distance_To_Hydrology: This feature seems to have an overwhelming amount of the data at exactly 0, so we will split it there\n",
    "\n",
    "The other variables: Horizontal_Distance_To_Roadways, the Hillshade variables, and Horizontal_Distance_To_Fire_Points seem to have a fairly smooth distribution, so we will just try to split them at their mean. \n"
   ]
  },
  {
   "cell_type": "code",
   "execution_count": 17,
   "metadata": {
    "execution": {
     "iopub.execute_input": "2021-07-20T22:22:40.281146Z",
     "iopub.status.busy": "2021-07-20T22:22:40.280504Z",
     "iopub.status.idle": "2021-07-20T22:22:40.285434Z",
     "shell.execute_reply": "2021-07-20T22:22:40.284911Z",
     "shell.execute_reply.started": "2021-07-20T21:22:58.6186Z"
    },
    "papermill": {
     "duration": 0.07419,
     "end_time": "2021-07-20T22:22:40.285576",
     "exception": false,
     "start_time": "2021-07-20T22:22:40.211386",
     "status": "completed"
    },
    "tags": []
   },
   "outputs": [],
   "source": [
    "#First we will create a copy of our data that we can modify\n",
    "tree_train_data = copy.deepcopy(train_data)\n",
    "tree_train_labels = copy.deepcopy(train_label)\n",
    "tree_dev_data = copy.deepcopy(dev_data)\n",
    "tree_dev_labels = copy.deepcopy(dev_label)"
   ]
  },
  {
   "cell_type": "code",
   "execution_count": 18,
   "metadata": {
    "execution": {
     "iopub.execute_input": "2021-07-20T22:22:40.458759Z",
     "iopub.status.busy": "2021-07-20T22:22:40.421421Z",
     "iopub.status.idle": "2021-07-20T22:23:52.153889Z",
     "shell.execute_reply": "2021-07-20T22:23:52.153335Z",
     "shell.execute_reply.started": "2021-07-20T21:20:16.165938Z"
    },
    "papermill": {
     "duration": 71.804693,
     "end_time": "2021-07-20T22:23:52.154068",
     "exception": false,
     "start_time": "2021-07-20T22:22:40.349375",
     "status": "completed"
    },
    "tags": []
   },
   "outputs": [
    {
     "name": "stdout",
     "output_type": "stream",
     "text": [
      "0 2699.211 0.732 Elevation\n",
      "1 283.421 0.031 Aspect\n",
      "2 19.158 0.076 Slope\n",
      "3 68.105 0.077 Horizontal_Distance_To_Hydrology\n",
      "4 1.368 0.046 Vertical_Distance_To_Hydrology\n",
      "5 1462.842 0.258 Horizontal_Distance_To_Roadways\n",
      "6 173.789 0.065 Hillshade_9am\n",
      "7 196.895 0.030 Hillshade_Noon\n",
      "8 91.368 0.049 Hillshade_3pm\n",
      "9 1803.421 0.167 Horizontal_Distance_To_Fire_Points\n",
      "10 0.053 0.253 Wilderness_Area1\n",
      "11 0.053 0.046 Wilderness_Area2\n",
      "12 0.053 0.145 Wilderness_Area3\n",
      "13 0.053 0.605 Wilderness_Area4\n",
      "14 0.053 0.031 Soil_Type1\n",
      "15 0.053 0.040 Soil_Type2\n",
      "16 0.053 0.146 Soil_Type3\n",
      "17 0.053 0.056 Soil_Type4\n",
      "18 0.053 0.014 Soil_Type5\n",
      "19 0.053 0.053 Soil_Type6\n"
     ]
    },
    {
     "name": "stderr",
     "output_type": "stream",
     "text": [
      "/opt/conda/lib/python3.7/site-packages/ipykernel_launcher.py:18: RuntimeWarning: invalid value encountered in true_divide\n"
     ]
    },
    {
     "name": "stdout",
     "output_type": "stream",
     "text": [
      "20 0.000 0.000 Soil_Type7\n",
      "21 0.053 0.000 Soil_Type8\n",
      "22 0.053 0.002 Soil_Type9\n",
      "23 0.053 0.186 Soil_Type10\n",
      "24 0.053 0.016 Soil_Type11\n",
      "25 0.053 0.038 Soil_Type12\n",
      "26 0.053 0.039 Soil_Type13\n",
      "27 0.053 0.020 Soil_Type14\n",
      "28 0.000 0.000 Soil_Type15\n",
      "29 0.053 0.005 Soil_Type16\n",
      "30 0.053 0.049 Soil_Type17\n",
      "31 0.053 0.008 Soil_Type18\n",
      "32 0.053 0.004 Soil_Type19\n",
      "33 0.053 0.011 Soil_Type20\n",
      "34 0.053 0.001 Soil_Type21\n",
      "35 0.053 0.047 Soil_Type22\n",
      "36 0.053 0.054 Soil_Type23\n",
      "37 0.053 0.016 Soil_Type24\n",
      "38 0.053 0.000 Soil_Type25\n",
      "39 0.053 0.005 Soil_Type26\n",
      "40 0.053 0.001 Soil_Type27\n",
      "41 0.053 0.001 Soil_Type28\n",
      "42 0.053 0.097 Soil_Type29\n",
      "43 0.053 0.074 Soil_Type30\n",
      "44 0.053 0.019 Soil_Type31\n",
      "45 0.053 0.036 Soil_Type32\n",
      "46 0.053 0.026 Soil_Type33\n",
      "47 0.053 0.002 Soil_Type34\n",
      "48 0.053 0.018 Soil_Type35\n",
      "49 0.053 0.001 Soil_Type36\n",
      "50 0.053 0.007 Soil_Type37\n",
      "51 0.053 0.112 Soil_Type38\n",
      "52 0.053 0.103 Soil_Type39\n",
      "53 0.053 0.072 Soil_Type40\n"
     ]
    }
   ],
   "source": [
    "def entropy(distribution):\n",
    "    h = 0.0\n",
    "    for probability in distribution:\n",
    "        logprob = -100.0  # log(0) = -inf so let's approximate it with -100 to avoid an error\n",
    "        if probability > 0.0: logprob = np.log2(probability)\n",
    "        h -= probability * logprob\n",
    "    return h\n",
    "\n",
    "def get_label_distribution(labels):\n",
    "    # Initialize counters for all labels to zero.\n",
    "    label_probs = np.array([0.0 for i in range(7)])\n",
    "\n",
    "    # Iterate over labels in the training data and update counts.\n",
    "    for label in labels:\n",
    "        label_probs[label-1] += 1.0\n",
    "    \n",
    "    # Normalize to get a distribution.\n",
    "    label_probs /= label_probs.sum()\n",
    "    return label_probs\n",
    "\n",
    "def information_gain(data, labels, feature, threshold=0):\n",
    "    # Get the initial entropy of the label distribution.\n",
    "    initial_entropy = entropy(get_label_distribution(labels))\n",
    "    \n",
    "    # subset0 will contain the labels for which the feature is 0 and\n",
    "    # subset1 will contain the labels for which the feature is 1.\n",
    "    subset0, subset1 = [], []\n",
    "    for datum, label in zip(data, labels):\n",
    "        if datum[feature] > threshold: subset1.append(label)\n",
    "        else: subset0.append(label)\n",
    "    \n",
    "    # Compute the entropy of each subset.\n",
    "    subset0_entropy = entropy(get_label_distribution(subset0))\n",
    "    subset1_entropy = entropy(get_label_distribution(subset1))\n",
    "    \n",
    "    # Compute the final entropy by weighting each subset's entropy according to its size.\n",
    "    subset0_weight = 1.0 * len(subset0) / len(labels)\n",
    "    subset1_weight = 1.0 * len(subset1) / len(labels)\n",
    "    final_entropy = subset0_weight * subset0_entropy + subset1_weight * subset1_entropy\n",
    "    \n",
    "    # Finally, compute information gain as the difference between the initial and final entropy.\n",
    "    return initial_entropy - final_entropy\n",
    "\n",
    "def try_features_and_thresholds(x, y, emptylist = []):\n",
    "    data = x.to_numpy()\n",
    "    labels = y.to_numpy()\n",
    "    for feature in range(data.shape[1]):\n",
    "        # Choose a set of thresholds between the min- and max-valued feature, ignoring the min and max themselves.\n",
    "        thresholds = np.linspace(data[:,feature].min(), data[:,feature].max(), 20)[1:-1]\n",
    "\n",
    "        # Try each threshold and keep track of the best one for this feature.\n",
    "        best_threshold = 0\n",
    "        best_ig = 0\n",
    "        for threshold in thresholds:\n",
    "            ig = information_gain(data, labels, feature, threshold)\n",
    "            if ig > best_ig:\n",
    "                best_ig = ig\n",
    "                best_threshold = threshold\n",
    "\n",
    "        # Show the best threshold and information gain for this feature.\n",
    "        print ('%d %.3f %.3f %s' %(feature, best_threshold, best_ig, x.columns[feature]))\n",
    "        emptylist.append(best_threshold)\n",
    "    return emptylist\n",
    "        \n",
    "bestcutoffs = try_features_and_thresholds(tree_train_data, tree_train_labels)"
   ]
  },
  {
   "cell_type": "code",
   "execution_count": 19,
   "metadata": {
    "execution": {
     "iopub.execute_input": "2021-07-20T22:23:52.330701Z",
     "iopub.status.busy": "2021-07-20T22:23:52.329520Z",
     "iopub.status.idle": "2021-07-20T22:23:52.412504Z",
     "shell.execute_reply": "2021-07-20T22:23:52.412960Z",
     "shell.execute_reply.started": "2021-07-20T21:23:02.172051Z"
    },
    "papermill": {
     "duration": 0.179029,
     "end_time": "2021-07-20T22:23:52.413196",
     "exception": false,
     "start_time": "2021-07-20T22:23:52.234167",
     "status": "completed"
    },
    "tags": []
   },
   "outputs": [
    {
     "name": "stdout",
     "output_type": "stream",
     "text": [
      "       Wilderness_Area1  Wilderness_Area2  Wilderness_Area3  Wilderness_Area4  \\\n",
      "5197                  1                 0                 0                 0   \n",
      "12430                 1                 0                 0                 0   \n",
      "12094                 1                 0                 0                 0   \n",
      "14569                 0                 0                 1                 0   \n",
      "2164                  0                 0                 0                 1   \n",
      "\n",
      "       Soil_Type1  Soil_Type2  Soil_Type3  Soil_Type4  Soil_Type5  Soil_Type6  \\\n",
      "5197            0           0           0           0           0           0   \n",
      "12430           0           0           0           0           0           0   \n",
      "12094           0           0           0           0           0           0   \n",
      "14569           0           0           0           0           0           0   \n",
      "2164            0           0           0           0           0           0   \n",
      "\n",
      "       ...  Elevation_high  Aspect_high  Slope_high  \\\n",
      "5197   ...               1            0           0   \n",
      "12430  ...               1            0           0   \n",
      "12094  ...               1            0           0   \n",
      "14569  ...               1            0           1   \n",
      "2164   ...               0            0           0   \n",
      "\n",
      "       Horizon_Dist_Hydrology_high  Vert_Dist_Hydrology_high  \\\n",
      "5197                             0                         0   \n",
      "12430                            1                         1   \n",
      "12094                            1                         1   \n",
      "14569                            1                         0   \n",
      "2164                             0                         0   \n",
      "\n",
      "       Horizon_Dist_Road_high  Hillshade_9am_high  Hillshade_Noon_high  \\\n",
      "5197                        1                   1                    1   \n",
      "12430                       1                   1                    1   \n",
      "12094                       0                   1                    1   \n",
      "14569                       1                   0                    1   \n",
      "2164                        0                   1                    1   \n",
      "\n",
      "       Hillshade_3pm_high  Horizon_Dist_Fire_high  \n",
      "5197                    1                       1  \n",
      "12430                   1                       1  \n",
      "12094                   1                       0  \n",
      "14569                   1                       1  \n",
      "2164                    1                       0  \n",
      "\n",
      "[5 rows x 54 columns]\n",
      "       Wilderness_Area1  Wilderness_Area2  Wilderness_Area3  Wilderness_Area4  \\\n",
      "14139                 0                 0                 1                 0   \n",
      "1851                  1                 0                 0                 0   \n",
      "9467                  0                 0                 1                 0   \n",
      "12125                 0                 0                 0                 1   \n",
      "8801                  0                 0                 1                 0   \n",
      "\n",
      "       Soil_Type1  Soil_Type2  Soil_Type3  Soil_Type4  Soil_Type5  Soil_Type6  \\\n",
      "14139           0           0           0           0           0           0   \n",
      "1851            0           0           0           0           0           0   \n",
      "9467            0           0           0           0           0           0   \n",
      "12125           1           0           0           0           0           0   \n",
      "8801            0           0           0           0           0           0   \n",
      "\n",
      "       ...  Elevation_high  Aspect_high  Slope_high  \\\n",
      "14139  ...               0            0           0   \n",
      "1851   ...               1            1           0   \n",
      "9467   ...               1            0           0   \n",
      "12125  ...               0            0           1   \n",
      "8801   ...               1            1           0   \n",
      "\n",
      "       Horizon_Dist_Hydrology_high  Vert_Dist_Hydrology_high  \\\n",
      "14139                            0                         0   \n",
      "1851                             1                         1   \n",
      "9467                             1                         1   \n",
      "12125                            0                         1   \n",
      "8801                             1                         1   \n",
      "\n",
      "       Horizon_Dist_Road_high  Hillshade_9am_high  Hillshade_Noon_high  \\\n",
      "14139                       0                   1                    1   \n",
      "1851                        1                   0                    1   \n",
      "9467                        1                   1                    1   \n",
      "12125                       0                   1                    0   \n",
      "8801                        1                   0                    1   \n",
      "\n",
      "       Hillshade_3pm_high  Horizon_Dist_Fire_high  \n",
      "14139                   1                       1  \n",
      "1851                    1                       0  \n",
      "9467                    1                       0  \n",
      "12125                   0                       0  \n",
      "8801                    1                       1  \n",
      "\n",
      "[5 rows x 54 columns]\n"
     ]
    }
   ],
   "source": [
    "def binarize_data_for_tree(x):\n",
    "    #Now we will create our elevation features, dividing it up into two sections with two new column\n",
    "    x[\"Elevation_high\"] = np.where(x[\"Elevation\"] > bestcutoffs[0], 1, 0)\n",
    "    x.drop(\"Elevation\", axis = 1, inplace = True)\n",
    "\n",
    "    #Next we create our aspect feature\n",
    "    x[\"Aspect_high\"] = np.where(x[\"Aspect\"] > bestcutoffs[1] , 1, 0)\n",
    "    x.drop(\"Aspect\", axis = 1, inplace = True)\n",
    "\n",
    "    #Our slope feature\n",
    "    x[\"Slope_high\"] = np.where(x[\"Slope\"] > bestcutoffs[2], 1, 0)\n",
    "    x.drop(\"Slope\", axis = 1, inplace = True)\n",
    "\n",
    "    #Our Horizontal distance to hydrology feature\n",
    "    x[\"Horizon_Dist_Hydrology_high\"] = np.where(x[\"Horizontal_Distance_To_Hydrology\"] > bestcutoffs[3], 1, 0)\n",
    "    x.drop(\"Horizontal_Distance_To_Hydrology\", axis = 1, inplace = True)\n",
    "\n",
    "    #Our Vertical distance to hydrology feature\n",
    "    x[\"Vert_Dist_Hydrology_high\"] = np.where(x[\"Vertical_Distance_To_Hydrology\"] > bestcutoffs[4] , 1, 0)\n",
    "    x.drop(\"Vertical_Distance_To_Hydrology\", axis = 1, inplace = True)\n",
    "\n",
    "    #Variables split on the mean\n",
    "    x[\"Horizon_Dist_Road_high\"] = np.where(x[\"Horizontal_Distance_To_Roadways\"] > bestcutoffs[5], 1, 0)\n",
    "    x.drop(\"Horizontal_Distance_To_Roadways\", axis = 1, inplace = True)\n",
    "\n",
    "    x[\"Hillshade_9am_high\"] = np.where(x[\"Hillshade_9am\"] > bestcutoffs[6], 1, 0)\n",
    "    x.drop(\"Hillshade_9am\", axis = 1, inplace = True)\n",
    "\n",
    "    x[\"Hillshade_Noon_high\"] = np.where(x[\"Hillshade_Noon\"] > bestcutoffs[7], 1, 0)\n",
    "    x.drop(\"Hillshade_Noon\", axis = 1, inplace = True)\n",
    "\n",
    "    x[\"Hillshade_3pm_high\"] = np.where(x[\"Hillshade_3pm\"] > bestcutoffs[8], 1, 0)\n",
    "    x.drop(\"Hillshade_3pm\", axis = 1, inplace = True)\n",
    "\n",
    "    x[\"Horizon_Dist_Fire_high\"] = np.where(x[\"Horizontal_Distance_To_Fire_Points\"] > bestcutoffs[9], 1, 0)\n",
    "    x.drop(\"Horizontal_Distance_To_Fire_Points\", axis = 1, inplace = True)\n",
    "    \n",
    "\n",
    "binarize_data_for_tree(tree_train_data)\n",
    "binarize_data_for_tree(tree_dev_data)\n",
    "    \n",
    "#Checking our data\n",
    "print(tree_train_data.head())\n",
    "print(tree_dev_data.head())"
   ]
  },
  {
   "cell_type": "markdown",
   "metadata": {
    "papermill": {
     "duration": 0.080419,
     "end_time": "2021-07-20T22:23:52.575775",
     "exception": false,
     "start_time": "2021-07-20T22:23:52.495356",
     "status": "completed"
    },
    "tags": []
   },
   "source": [
    "Now that we have successfully Binarized our data, let's fit a single Decision Tree classifier and see what accuracy we get"
   ]
  },
  {
   "cell_type": "code",
   "execution_count": 20,
   "metadata": {
    "execution": {
     "iopub.execute_input": "2021-07-20T22:23:52.748666Z",
     "iopub.status.busy": "2021-07-20T22:23:52.747562Z",
     "iopub.status.idle": "2021-07-20T22:23:53.233930Z",
     "shell.execute_reply": "2021-07-20T22:23:53.234512Z",
     "shell.execute_reply.started": "2021-07-20T21:24:16.816998Z"
    },
    "papermill": {
     "duration": 0.577783,
     "end_time": "2021-07-20T22:23:53.234696",
     "exception": false,
     "start_time": "2021-07-20T22:23:52.656913",
     "status": "completed"
    },
    "tags": []
   },
   "outputs": [
    {
     "name": "stdout",
     "output_type": "stream",
     "text": [
      "For the model with a minimum sample split of 3\n",
      "total: 4990  correct: 3397  accuracy: 0.68\n",
      "\n",
      "For the model with a minimum sample split of 4\n",
      "total: 4990  correct: 3397  accuracy: 0.68\n",
      "\n",
      "For the model with a minimum sample split of 5\n",
      "total: 4990  correct: 3403  accuracy: 0.68\n",
      "\n",
      "For the model with a minimum sample split of 6\n",
      "total: 4990  correct: 3407  accuracy: 0.68\n",
      "\n",
      "For the model with a minimum sample split of 7\n",
      "total: 4990  correct: 3409  accuracy: 0.68\n",
      "\n",
      "For the model with a minimum sample split of 8\n",
      "total: 4990  correct: 3403  accuracy: 0.68\n",
      "\n",
      "For the model with a minimum sample split of 9\n",
      "total: 4990  correct: 3409  accuracy: 0.68\n",
      "\n",
      "For the model with a minimum sample split of 10\n",
      "total: 4990  correct: 3406  accuracy: 0.68\n",
      "\n",
      "For the model with a minimum sample split of 15\n",
      "total: 4990  correct: 3408  accuracy: 0.68\n",
      "\n",
      "For the model with a minimum sample split of 25\n",
      "total: 4990  correct: 3406  accuracy: 0.68\n",
      "\n",
      "For the model with a minimum sample split of 50\n",
      "total: 4990  correct: 3371  accuracy: 0.68\n",
      "\n",
      "For the model with a minimum sample split of 100\n",
      "total: 4990  correct: 3349  accuracy: 0.67\n",
      "\n",
      "For the model with a minimum sample split of 500\n",
      "total: 4990  correct: 3221  accuracy: 0.65\n",
      "\n",
      "For the model with a minimum sample split of 1000\n",
      "total: 4990  correct: 2979  accuracy: 0.60\n",
      "\n"
     ]
    }
   ],
   "source": [
    "min_samples = [3, 4, 5, 6, 7, 8, 9, 10, 15, 25, 50, 100, 500, 1000]\n",
    "\n",
    "for i in min_samples:\n",
    "    clf = DecisionTreeClassifier(criterion='entropy', min_samples_split=i)\n",
    "    clf.fit(tree_train_data, tree_train_labels)\n",
    "    \n",
    "    # Predict on the dev data\n",
    "    preds = clf.predict(tree_dev_data)\n",
    "\n",
    "    # And calculate the accuracy by comparing it to the labels\n",
    "    correct, total = 0, 0\n",
    "    for pred, label in zip(preds, tree_dev_labels):\n",
    "        if pred == label: \n",
    "            correct += 1\n",
    "        total += 1\n",
    "\n",
    "    # Finally we print the outcomes\n",
    "    Outcome = [\"For the model with a minimum sample split of\", str(i)]\n",
    "    print(\" \".join(Outcome))\n",
    "    print ('total: %3d  correct: %3d  accuracy: %3.2f' %(total, correct, 1.0*correct/total))\n",
    "    print()\n"
   ]
  },
  {
   "cell_type": "markdown",
   "metadata": {
    "papermill": {
     "duration": 0.082815,
     "end_time": "2021-07-20T22:23:53.403623",
     "exception": false,
     "start_time": "2021-07-20T22:23:53.320808",
     "status": "completed"
    },
    "tags": []
   },
   "source": [
    "## Random Forest Classifier"
   ]
  },
  {
   "cell_type": "code",
   "execution_count": 21,
   "metadata": {
    "execution": {
     "iopub.execute_input": "2021-07-20T22:23:53.581126Z",
     "iopub.status.busy": "2021-07-20T22:23:53.580401Z",
     "iopub.status.idle": "2021-07-20T22:27:59.818728Z",
     "shell.execute_reply": "2021-07-20T22:27:59.819254Z",
     "shell.execute_reply.started": "2021-07-20T21:25:45.757967Z"
    },
    "papermill": {
     "duration": 246.331898,
     "end_time": "2021-07-20T22:27:59.819436",
     "exception": false,
     "start_time": "2021-07-20T22:23:53.487538",
     "status": "completed"
    },
    "tags": []
   },
   "outputs": [
    {
     "name": "stdout",
     "output_type": "stream",
     "text": [
      "For the model with 500 estimators \n",
      " a minimum sample split of 6 and a max depth of 10\n",
      "total: 4990  correct: 3438  accuracy: 0.69\n",
      "\n",
      "For the model with 500 estimators \n",
      " a minimum sample split of 6 and a max depth of 15\n",
      "total: 4990  correct: 3457  accuracy: 0.69\n",
      "\n",
      "For the model with 500 estimators \n",
      " a minimum sample split of 6 and a max depth of 25\n",
      "total: 4990  correct: 3458  accuracy: 0.69\n",
      "\n",
      "For the model with 500 estimators \n",
      " a minimum sample split of 6 and a max depth of 50\n",
      "total: 4990  correct: 3454  accuracy: 0.69\n",
      "\n",
      "For the model with 500 estimators \n",
      " a minimum sample split of 7 and a max depth of 10\n",
      "total: 4990  correct: 3413  accuracy: 0.68\n",
      "\n",
      "For the model with 500 estimators \n",
      " a minimum sample split of 7 and a max depth of 15\n",
      "total: 4990  correct: 3471  accuracy: 0.70\n",
      "\n",
      "For the model with 500 estimators \n",
      " a minimum sample split of 7 and a max depth of 25\n",
      "total: 4990  correct: 3466  accuracy: 0.69\n",
      "\n",
      "For the model with 500 estimators \n",
      " a minimum sample split of 7 and a max depth of 50\n",
      "total: 4990  correct: 3469  accuracy: 0.70\n",
      "\n",
      "For the model with 1000 estimators \n",
      " a minimum sample split of 6 and a max depth of 10\n",
      "total: 4990  correct: 3429  accuracy: 0.69\n",
      "\n",
      "For the model with 1000 estimators \n",
      " a minimum sample split of 6 and a max depth of 15\n",
      "total: 4990  correct: 3464  accuracy: 0.69\n",
      "\n",
      "For the model with 1000 estimators \n",
      " a minimum sample split of 6 and a max depth of 25\n",
      "total: 4990  correct: 3458  accuracy: 0.69\n",
      "\n",
      "For the model with 1000 estimators \n",
      " a minimum sample split of 6 and a max depth of 50\n",
      "total: 4990  correct: 3461  accuracy: 0.69\n",
      "\n",
      "For the model with 1000 estimators \n",
      " a minimum sample split of 7 and a max depth of 10\n",
      "total: 4990  correct: 3432  accuracy: 0.69\n",
      "\n",
      "For the model with 1000 estimators \n",
      " a minimum sample split of 7 and a max depth of 15\n",
      "total: 4990  correct: 3457  accuracy: 0.69\n",
      "\n",
      "For the model with 1000 estimators \n",
      " a minimum sample split of 7 and a max depth of 25\n",
      "total: 4990  correct: 3459  accuracy: 0.69\n",
      "\n",
      "For the model with 1000 estimators \n",
      " a minimum sample split of 7 and a max depth of 50\n",
      "total: 4990  correct: 3461  accuracy: 0.69\n",
      "\n",
      "For the model with 2000 estimators \n",
      " a minimum sample split of 6 and a max depth of 10\n",
      "total: 4990  correct: 3421  accuracy: 0.69\n",
      "\n",
      "For the model with 2000 estimators \n",
      " a minimum sample split of 6 and a max depth of 15\n",
      "total: 4990  correct: 3451  accuracy: 0.69\n",
      "\n",
      "For the model with 2000 estimators \n",
      " a minimum sample split of 6 and a max depth of 25\n",
      "total: 4990  correct: 3461  accuracy: 0.69\n",
      "\n",
      "For the model with 2000 estimators \n",
      " a minimum sample split of 6 and a max depth of 50\n",
      "total: 4990  correct: 3453  accuracy: 0.69\n",
      "\n",
      "For the model with 2000 estimators \n",
      " a minimum sample split of 7 and a max depth of 10\n",
      "total: 4990  correct: 3441  accuracy: 0.69\n",
      "\n",
      "For the model with 2000 estimators \n",
      " a minimum sample split of 7 and a max depth of 15\n",
      "total: 4990  correct: 3460  accuracy: 0.69\n",
      "\n",
      "For the model with 2000 estimators \n",
      " a minimum sample split of 7 and a max depth of 25\n",
      "total: 4990  correct: 3469  accuracy: 0.70\n",
      "\n",
      "For the model with 2000 estimators \n",
      " a minimum sample split of 7 and a max depth of 50\n",
      "total: 4990  correct: 3469  accuracy: 0.70\n",
      "\n"
     ]
    }
   ],
   "source": [
    "n_estimators = [500, 1000, 2000]\n",
    "min_samples = [6, 7]\n",
    "max_depths = [10, 15, 25, 50]\n",
    "\n",
    "for i in n_estimators:\n",
    "    for j in min_samples:\n",
    "        for k in max_depths:\n",
    "            \n",
    "            clf = RandomForestClassifier(n_estimators = i, min_samples_split = j, max_depth = k,\n",
    "                                         criterion='entropy')\n",
    "            clf.fit(tree_train_data, tree_train_labels)\n",
    "            # Predict on the dev data\n",
    "            preds = clf.predict(tree_dev_data)\n",
    "\n",
    "            # And calculate the accuracy by comparing it to the labels\n",
    "            correct, total = 0, 0\n",
    "            for pred, label in zip(preds, tree_dev_labels):\n",
    "                if pred == label: \n",
    "                    correct += 1\n",
    "                total += 1\n",
    "\n",
    "            # Finally we print the outcomes\n",
    "            Outcome = [\"For the model with\", str(i), \"estimators\",\n",
    "                      \"\\n a minimum sample split of\", str(j), \"and a max depth of\", str(k)]\n",
    "            print(\" \".join(Outcome))\n",
    "            print ('total: %3d  correct: %3d  accuracy: %3.2f' %(total, correct, 1.0*correct/total))\n",
    "            print()"
   ]
  },
  {
   "cell_type": "markdown",
   "metadata": {
    "papermill": {
     "duration": 0.088187,
     "end_time": "2021-07-20T22:27:59.996603",
     "exception": false,
     "start_time": "2021-07-20T22:27:59.908416",
     "status": "completed"
    },
    "tags": []
   },
   "source": [
    "It seems like we still can't beat our baseline, so next we will try the Adaboost ensemble"
   ]
  },
  {
   "cell_type": "markdown",
   "metadata": {
    "papermill": {
     "duration": 0.088997,
     "end_time": "2021-07-20T22:28:00.175117",
     "exception": false,
     "start_time": "2021-07-20T22:28:00.086120",
     "status": "completed"
    },
    "tags": []
   },
   "source": [
    "## Adaboost"
   ]
  },
  {
   "cell_type": "code",
   "execution_count": 22,
   "metadata": {
    "execution": {
     "iopub.execute_input": "2021-07-20T22:28:00.361321Z",
     "iopub.status.busy": "2021-07-20T22:28:00.360183Z",
     "iopub.status.idle": "2021-07-20T22:30:41.780855Z",
     "shell.execute_reply": "2021-07-20T22:30:41.780239Z",
     "shell.execute_reply.started": "2021-07-20T16:17:23.645618Z"
    },
    "papermill": {
     "duration": 161.517904,
     "end_time": "2021-07-20T22:30:41.781125",
     "exception": false,
     "start_time": "2021-07-20T22:28:00.263221",
     "status": "completed"
    },
    "tags": []
   },
   "outputs": [
    {
     "name": "stdout",
     "output_type": "stream",
     "text": [
      "For the model with 10 depth trees,\n",
      " 50 estimators, and a learning rate of 0.1\n",
      "total: 4990  correct: 3244  accuracy: 0.65\n",
      "\n",
      "For the model with 10 depth trees,\n",
      " 50 estimators, and a learning rate of 0.25\n",
      "total: 4990  correct: 3124  accuracy: 0.63\n",
      "\n",
      "For the model with 10 depth trees,\n",
      " 50 estimators, and a learning rate of 0.5\n",
      "total: 4990  correct: 3023  accuracy: 0.61\n",
      "\n",
      "For the model with 10 depth trees,\n",
      " 50 estimators, and a learning rate of 0.75\n",
      "total: 4990  correct: 3125  accuracy: 0.63\n",
      "\n",
      "For the model with 10 depth trees,\n",
      " 50 estimators, and a learning rate of 1\n",
      "total: 4990  correct: 2994  accuracy: 0.60\n",
      "\n",
      "For the model with 10 depth trees,\n",
      " 100 estimators, and a learning rate of 0.1\n",
      "total: 4990  correct: 3131  accuracy: 0.63\n",
      "\n",
      "For the model with 10 depth trees,\n",
      " 100 estimators, and a learning rate of 0.25\n",
      "total: 4990  correct: 3060  accuracy: 0.61\n",
      "\n",
      "For the model with 10 depth trees,\n",
      " 100 estimators, and a learning rate of 0.5\n",
      "total: 4990  correct: 2750  accuracy: 0.55\n",
      "\n",
      "For the model with 10 depth trees,\n",
      " 100 estimators, and a learning rate of 0.75\n",
      "total: 4990  correct: 2847  accuracy: 0.57\n",
      "\n",
      "For the model with 10 depth trees,\n",
      " 100 estimators, and a learning rate of 1\n",
      "total: 4990  correct: 3039  accuracy: 0.61\n",
      "\n",
      "For the model with 10 depth trees,\n",
      " 200 estimators, and a learning rate of 0.1\n",
      "total: 4990  correct: 2829  accuracy: 0.57\n",
      "\n",
      "For the model with 10 depth trees,\n",
      " 200 estimators, and a learning rate of 0.25\n",
      "total: 4990  correct: 2958  accuracy: 0.59\n",
      "\n",
      "For the model with 10 depth trees,\n",
      " 200 estimators, and a learning rate of 0.5\n",
      "total: 4990  correct: 2900  accuracy: 0.58\n",
      "\n",
      "For the model with 10 depth trees,\n",
      " 200 estimators, and a learning rate of 0.75\n",
      "total: 4990  correct: 2934  accuracy: 0.59\n",
      "\n",
      "For the model with 10 depth trees,\n",
      " 200 estimators, and a learning rate of 1\n",
      "total: 4990  correct: 2798  accuracy: 0.56\n",
      "\n",
      "For the model with 15 depth trees,\n",
      " 50 estimators, and a learning rate of 0.1\n",
      "total: 4990  correct: 3233  accuracy: 0.65\n",
      "\n",
      "For the model with 15 depth trees,\n",
      " 50 estimators, and a learning rate of 0.25\n",
      "total: 4990  correct: 3213  accuracy: 0.64\n",
      "\n",
      "For the model with 15 depth trees,\n",
      " 50 estimators, and a learning rate of 0.5\n",
      "total: 4990  correct: 2860  accuracy: 0.57\n",
      "\n",
      "For the model with 15 depth trees,\n",
      " 50 estimators, and a learning rate of 0.75\n",
      "total: 4990  correct: 2902  accuracy: 0.58\n",
      "\n",
      "For the model with 15 depth trees,\n",
      " 50 estimators, and a learning rate of 1\n",
      "total: 4990  correct: 3284  accuracy: 0.66\n",
      "\n",
      "For the model with 15 depth trees,\n",
      " 100 estimators, and a learning rate of 0.1\n",
      "total: 4990  correct: 3135  accuracy: 0.63\n",
      "\n",
      "For the model with 15 depth trees,\n",
      " 100 estimators, and a learning rate of 0.25\n",
      "total: 4990  correct: 2826  accuracy: 0.57\n",
      "\n",
      "For the model with 15 depth trees,\n",
      " 100 estimators, and a learning rate of 0.5\n",
      "total: 4990  correct: 3080  accuracy: 0.62\n",
      "\n",
      "For the model with 15 depth trees,\n",
      " 100 estimators, and a learning rate of 0.75\n",
      "total: 4990  correct: 2649  accuracy: 0.53\n",
      "\n",
      "For the model with 15 depth trees,\n",
      " 100 estimators, and a learning rate of 1\n",
      "total: 4990  correct: 2921  accuracy: 0.59\n",
      "\n",
      "For the model with 15 depth trees,\n",
      " 200 estimators, and a learning rate of 0.1\n",
      "total: 4990  correct: 2885  accuracy: 0.58\n",
      "\n",
      "For the model with 15 depth trees,\n",
      " 200 estimators, and a learning rate of 0.25\n",
      "total: 4990  correct: 2897  accuracy: 0.58\n",
      "\n",
      "For the model with 15 depth trees,\n",
      " 200 estimators, and a learning rate of 0.5\n",
      "total: 4990  correct: 3036  accuracy: 0.61\n",
      "\n",
      "For the model with 15 depth trees,\n",
      " 200 estimators, and a learning rate of 0.75\n",
      "total: 4990  correct: 2868  accuracy: 0.57\n",
      "\n",
      "For the model with 15 depth trees,\n",
      " 200 estimators, and a learning rate of 1\n",
      "total: 4990  correct: 2896  accuracy: 0.58\n",
      "\n",
      "For the model with 20 depth trees,\n",
      " 50 estimators, and a learning rate of 0.1\n",
      "total: 4990  correct: 3366  accuracy: 0.67\n",
      "\n",
      "For the model with 20 depth trees,\n",
      " 50 estimators, and a learning rate of 0.25\n",
      "total: 4990  correct: 2867  accuracy: 0.57\n",
      "\n",
      "For the model with 20 depth trees,\n",
      " 50 estimators, and a learning rate of 0.5\n",
      "total: 4990  correct: 2907  accuracy: 0.58\n",
      "\n",
      "For the model with 20 depth trees,\n",
      " 50 estimators, and a learning rate of 0.75\n",
      "total: 4990  correct: 2840  accuracy: 0.57\n",
      "\n",
      "For the model with 20 depth trees,\n",
      " 50 estimators, and a learning rate of 1\n",
      "total: 4990  correct: 2988  accuracy: 0.60\n",
      "\n",
      "For the model with 20 depth trees,\n",
      " 100 estimators, and a learning rate of 0.1\n",
      "total: 4990  correct: 3279  accuracy: 0.66\n",
      "\n",
      "For the model with 20 depth trees,\n",
      " 100 estimators, and a learning rate of 0.25\n",
      "total: 4990  correct: 3052  accuracy: 0.61\n",
      "\n",
      "For the model with 20 depth trees,\n",
      " 100 estimators, and a learning rate of 0.5\n",
      "total: 4990  correct: 2717  accuracy: 0.54\n",
      "\n",
      "For the model with 20 depth trees,\n",
      " 100 estimators, and a learning rate of 0.75\n",
      "total: 4990  correct: 2974  accuracy: 0.60\n",
      "\n",
      "For the model with 20 depth trees,\n",
      " 100 estimators, and a learning rate of 1\n",
      "total: 4990  correct: 2647  accuracy: 0.53\n",
      "\n",
      "For the model with 20 depth trees,\n",
      " 200 estimators, and a learning rate of 0.1\n",
      "total: 4990  correct: 3013  accuracy: 0.60\n",
      "\n",
      "For the model with 20 depth trees,\n",
      " 200 estimators, and a learning rate of 0.25\n",
      "total: 4990  correct: 2988  accuracy: 0.60\n",
      "\n",
      "For the model with 20 depth trees,\n",
      " 200 estimators, and a learning rate of 0.5\n",
      "total: 4990  correct: 2870  accuracy: 0.58\n",
      "\n",
      "For the model with 20 depth trees,\n",
      " 200 estimators, and a learning rate of 0.75\n",
      "total: 4990  correct: 2849  accuracy: 0.57\n",
      "\n",
      "For the model with 20 depth trees,\n",
      " 200 estimators, and a learning rate of 1\n",
      "total: 4990  correct: 3165  accuracy: 0.63\n",
      "\n"
     ]
    }
   ],
   "source": [
    "max_depths = [10, 15, 20]\n",
    "n_estimators = [50, 100, 200]\n",
    "learning_rates = [.1, .25, .5, .75, 1]\n",
    "\n",
    "#Turning it into a form Adaboost likes\n",
    "tree_train_data = tree_train_data * 2 -1\n",
    "tree_dev_data = tree_dev_data * 2 -1\n",
    "\n",
    "for i in max_depths:\n",
    "    for j in n_estimators:\n",
    "        for k in learning_rates:\n",
    "            \n",
    "            clf = AdaBoostClassifier(base_estimator=DecisionTreeClassifier(max_depth=i), \n",
    "                                     n_estimators=j, learning_rate=k)\n",
    "            clf.fit(tree_train_data, tree_train_labels)\n",
    "            # Predict on the dev data\n",
    "            preds = clf.predict(tree_dev_data)\n",
    "\n",
    "            # And calculate the accuracy by comparing it to the labels\n",
    "            correct, total = 0, 0\n",
    "            for pred, label in zip(preds, tree_dev_labels):\n",
    "                if pred == label: \n",
    "                    correct += 1\n",
    "                total += 1\n",
    "\n",
    "            # Finally we print the outcomes\n",
    "            Outcome = [\"For the model with\", str(i), \"depth trees,\\n\",\n",
    "                      str(j), \"estimators, and a learning rate of\", str(k)]\n",
    "            print(\" \".join(Outcome))\n",
    "            print ('total: %3d  correct: %3d  accuracy: %3.2f' %(total, correct, 1.0*correct/total))\n",
    "            print()"
   ]
  },
  {
   "cell_type": "markdown",
   "metadata": {
    "editable": false,
    "papermill": {
     "duration": 0.102886,
     "end_time": "2021-07-20T22:30:41.991300",
     "exception": false,
     "start_time": "2021-07-20T22:30:41.888414",
     "status": "completed"
    },
    "tags": []
   },
   "source": [
    "# **Naive Bayes**"
   ]
  },
  {
   "cell_type": "markdown",
   "metadata": {
    "editable": false,
    "papermill": {
     "duration": 0.102422,
     "end_time": "2021-07-20T22:30:42.196385",
     "exception": false,
     "start_time": "2021-07-20T22:30:42.093963",
     "status": "completed"
    },
    "tags": []
   },
   "source": [
    "First, we will be using a Bernoulli Naive Bayes. BernoulliNB is designed for binary/boolean features.\n",
    "\n",
    "https://scikit-learn.org/stable/modules/generated/sklearn.naive_bayes.BernoulliNB.html"
   ]
  },
  {
   "cell_type": "code",
   "execution_count": 23,
   "metadata": {
    "execution": {
     "iopub.execute_input": "2021-07-20T22:30:42.407564Z",
     "iopub.status.busy": "2021-07-20T22:30:42.406222Z",
     "iopub.status.idle": "2021-07-20T22:30:42.411511Z",
     "shell.execute_reply": "2021-07-20T22:30:42.412030Z",
     "shell.execute_reply.started": "2021-07-20T16:18:57.980453Z"
    },
    "papermill": {
     "duration": 0.114243,
     "end_time": "2021-07-20T22:30:42.412217",
     "exception": false,
     "start_time": "2021-07-20T22:30:42.297974",
     "status": "completed"
    },
    "tags": []
   },
   "outputs": [],
   "source": [
    "#First we will create a copy of our data that we can modify\n",
    "NB_train_data = copy.deepcopy(train_data.iloc[:,:-1])\n",
    "NB_train_labels = copy.deepcopy(train_data.iloc[:,-1])\n",
    "NB_dev_data = copy.deepcopy(dev_data.iloc[:,:-1])\n",
    "NB_dev_labels = copy.deepcopy(dev_data.iloc[:,-1])"
   ]
  },
  {
   "cell_type": "code",
   "execution_count": 24,
   "metadata": {
    "execution": {
     "iopub.execute_input": "2021-07-20T22:30:42.622407Z",
     "iopub.status.busy": "2021-07-20T22:30:42.620854Z",
     "iopub.status.idle": "2021-07-20T22:30:42.687663Z",
     "shell.execute_reply": "2021-07-20T22:30:42.687071Z",
     "shell.execute_reply.started": "2021-07-20T16:18:58.011911Z"
    },
    "papermill": {
     "duration": 0.173847,
     "end_time": "2021-07-20T22:30:42.687806",
     "exception": false,
     "start_time": "2021-07-20T22:30:42.513959",
     "status": "completed"
    },
    "tags": []
   },
   "outputs": [],
   "source": [
    "#Binarize our data\n",
    "binarize_data_for_tree(NB_train_data)\n",
    "binarize_data_for_tree(NB_dev_data)"
   ]
  },
  {
   "cell_type": "code",
   "execution_count": 25,
   "metadata": {
    "execution": {
     "iopub.execute_input": "2021-07-20T22:30:42.906685Z",
     "iopub.status.busy": "2021-07-20T22:30:42.905863Z",
     "iopub.status.idle": "2021-07-20T22:30:42.911684Z",
     "shell.execute_reply": "2021-07-20T22:30:42.910963Z",
     "shell.execute_reply.started": "2021-07-20T16:18:58.076372Z"
    },
    "papermill": {
     "duration": 0.121927,
     "end_time": "2021-07-20T22:30:42.911870",
     "exception": false,
     "start_time": "2021-07-20T22:30:42.789943",
     "status": "completed"
    },
    "tags": []
   },
   "outputs": [
    {
     "name": "stdout",
     "output_type": "stream",
     "text": [
      "       Wilderness_Area1  Wilderness_Area2  Wilderness_Area3  Wilderness_Area4  \\\n",
      "5197                  1                 0                 0                 0   \n",
      "12430                 1                 0                 0                 0   \n",
      "12094                 1                 0                 0                 0   \n",
      "14569                 0                 0                 1                 0   \n",
      "2164                  0                 0                 0                 1   \n",
      "5895                  0                 0                 0                 1   \n",
      "9468                  0                 0                 1                 0   \n",
      "13966                 0                 0                 1                 0   \n",
      "10920                 0                 0                 1                 0   \n",
      "11779                 1                 0                 0                 0   \n",
      "11167                 0                 0                 1                 0   \n",
      "5698                  0                 0                 0                 1   \n",
      "11297                 0                 0                 1                 0   \n",
      "2518                  0                 0                 0                 1   \n",
      "7395                  0                 0                 1                 0   \n",
      "5192                  0                 0                 0                 1   \n",
      "2582                  1                 0                 0                 0   \n",
      "1254                  1                 0                 0                 0   \n",
      "4739                  0                 0                 0                 1   \n",
      "3773                  0                 0                 0                 1   \n",
      "11044                 0                 0                 1                 0   \n",
      "8711                  0                 0                 1                 0   \n",
      "3305                  0                 0                 0                 1   \n",
      "10068                 0                 0                 1                 0   \n",
      "11556                 1                 0                 0                 0   \n",
      "\n",
      "       Soil_Type1  Soil_Type2  Soil_Type3  Soil_Type4  Soil_Type5  Soil_Type6  \\\n",
      "5197            0           0           0           0           0           0   \n",
      "12430           0           0           0           0           0           0   \n",
      "12094           0           0           0           0           0           0   \n",
      "14569           0           0           0           0           0           0   \n",
      "2164            0           0           0           0           0           0   \n",
      "5895            0           0           0           0           0           0   \n",
      "9468            0           0           0           0           0           0   \n",
      "13966           0           0           0           0           0           0   \n",
      "10920           0           0           0           1           0           0   \n",
      "11779           0           0           0           0           0           0   \n",
      "11167           0           0           0           1           0           0   \n",
      "5698            0           0           0           0           0           1   \n",
      "11297           0           0           0           0           0           0   \n",
      "2518            0           0           0           0           0           0   \n",
      "7395            0           0           0           0           0           0   \n",
      "5192            0           0           0           0           0           0   \n",
      "2582            0           0           0           0           0           0   \n",
      "1254            0           0           0           0           0           0   \n",
      "4739            0           0           0           1           0           0   \n",
      "3773            0           0           0           0           0           1   \n",
      "11044           0           0           0           0           0           0   \n",
      "8711            0           0           0           0           0           0   \n",
      "3305            0           0           1           0           0           0   \n",
      "10068           0           0           0           0           0           0   \n",
      "11556           0           0           0           0           0           0   \n",
      "\n",
      "       ...  Elevation_high  Aspect_high  Slope_high  \\\n",
      "5197   ...               1            0           0   \n",
      "12430  ...               1            0           0   \n",
      "12094  ...               1            0           0   \n",
      "14569  ...               1            0           1   \n",
      "2164   ...               0            0           0   \n",
      "5895   ...               0            0           0   \n",
      "9468   ...               1            0           0   \n",
      "13966  ...               1            1           0   \n",
      "10920  ...               0            0           1   \n",
      "11779  ...               1            0           0   \n",
      "11167  ...               0            0           1   \n",
      "5698   ...               0            0           0   \n",
      "11297  ...               0            0           1   \n",
      "2518   ...               0            0           0   \n",
      "7395   ...               1            0           0   \n",
      "5192   ...               0            1           1   \n",
      "2582   ...               1            0           0   \n",
      "1254   ...               1            1           0   \n",
      "4739   ...               0            1           0   \n",
      "3773   ...               0            0           1   \n",
      "11044  ...               0            0           1   \n",
      "8711   ...               1            0           0   \n",
      "3305   ...               0            0           0   \n",
      "10068  ...               1            0           0   \n",
      "11556  ...               1            0           1   \n",
      "\n",
      "       Horizon_Dist_Hydrology_high  Vert_Dist_Hydrology_high  \\\n",
      "5197                             0                         0   \n",
      "12430                            1                         1   \n",
      "12094                            1                         1   \n",
      "14569                            1                         0   \n",
      "2164                             0                         0   \n",
      "5895                             0                         0   \n",
      "9468                             1                         1   \n",
      "13966                            1                         1   \n",
      "10920                            0                         1   \n",
      "11779                            1                         1   \n",
      "11167                            0                         0   \n",
      "5698                             1                         1   \n",
      "11297                            1                         0   \n",
      "2518                             1                         1   \n",
      "7395                             1                         1   \n",
      "5192                             1                         1   \n",
      "2582                             0                         1   \n",
      "1254                             1                         1   \n",
      "4739                             0                         0   \n",
      "3773                             1                         1   \n",
      "11044                            1                         1   \n",
      "8711                             1                         1   \n",
      "3305                             0                         0   \n",
      "10068                            1                         1   \n",
      "11556                            0                         1   \n",
      "\n",
      "       Horizon_Dist_Road_high  Hillshade_9am_high  Hillshade_Noon_high  \\\n",
      "5197                        1                   1                    1   \n",
      "12430                       1                   1                    1   \n",
      "12094                       0                   1                    1   \n",
      "14569                       1                   0                    1   \n",
      "2164                        0                   1                    1   \n",
      "5895                        0                   1                    1   \n",
      "9468                        1                   1                    1   \n",
      "13966                       0                   1                    1   \n",
      "10920                       1                   0                    1   \n",
      "11779                       1                   1                    1   \n",
      "11167                       1                   1                    1   \n",
      "5698                        0                   1                    1   \n",
      "11297                       0                   1                    0   \n",
      "2518                        0                   1                    1   \n",
      "7395                        1                   1                    1   \n",
      "5192                        0                   0                    0   \n",
      "2582                        0                   1                    1   \n",
      "1254                        1                   1                    1   \n",
      "4739                        0                   1                    1   \n",
      "3773                        0                   1                    1   \n",
      "11044                       1                   1                    0   \n",
      "8711                        1                   1                    1   \n",
      "3305                        0                   1                    1   \n",
      "10068                       1                   1                    1   \n",
      "11556                       1                   1                    1   \n",
      "\n",
      "       Hillshade_3pm_high  Horizon_Dist_Fire_high  \n",
      "5197                    1                       1  \n",
      "12430                   1                       1  \n",
      "12094                   1                       0  \n",
      "14569                   1                       1  \n",
      "2164                    1                       0  \n",
      "5895                    1                       0  \n",
      "9468                    1                       0  \n",
      "13966                   1                       0  \n",
      "10920                   1                       0  \n",
      "11779                   1                       1  \n",
      "11167                   1                       0  \n",
      "5698                    1                       1  \n",
      "11297                   0                       0  \n",
      "2518                    1                       0  \n",
      "7395                    1                       0  \n",
      "5192                    1                       0  \n",
      "2582                    1                       0  \n",
      "1254                    1                       0  \n",
      "4739                    1                       0  \n",
      "3773                    1                       0  \n",
      "11044                   1                       0  \n",
      "8711                    1                       1  \n",
      "3305                    1                       0  \n",
      "10068                   1                       1  \n",
      "11556                   1                       0  \n",
      "\n",
      "[25 rows x 53 columns]\n"
     ]
    }
   ],
   "source": [
    "print(NB_train_data.head(25))"
   ]
  },
  {
   "cell_type": "code",
   "execution_count": 26,
   "metadata": {
    "execution": {
     "iopub.execute_input": "2021-07-20T22:30:43.128980Z",
     "iopub.status.busy": "2021-07-20T22:30:43.128342Z",
     "iopub.status.idle": "2021-07-20T22:30:43.492133Z",
     "shell.execute_reply": "2021-07-20T22:30:43.491422Z",
     "shell.execute_reply.started": "2021-07-20T16:18:58.12122Z"
    },
    "papermill": {
     "duration": 0.476768,
     "end_time": "2021-07-20T22:30:43.492453",
     "exception": true,
     "start_time": "2021-07-20T22:30:43.015685",
     "status": "failed"
    },
    "tags": []
   },
   "outputs": [
    {
     "ename": "NameError",
     "evalue": "name 'BernoulliNB' is not defined",
     "output_type": "error",
     "traceback": [
      "\u001b[0;31m---------------------------------------------------------------------------\u001b[0m",
      "\u001b[0;31mNameError\u001b[0m                                 Traceback (most recent call last)",
      "\u001b[0;32m<ipython-input-26-cd6edf1768cc>\u001b[0m in \u001b[0;36m<module>\u001b[0;34m\u001b[0m\n\u001b[0;32m----> 1\u001b[0;31m \u001b[0mclf\u001b[0m \u001b[0;34m=\u001b[0m \u001b[0mBernoulliNB\u001b[0m\u001b[0;34m(\u001b[0m\u001b[0malpha\u001b[0m \u001b[0;34m=\u001b[0m \u001b[0;36m1.0\u001b[0m\u001b[0;34m)\u001b[0m\u001b[0;34m\u001b[0m\u001b[0;34m\u001b[0m\u001b[0m\n\u001b[0m\u001b[1;32m      2\u001b[0m \u001b[0mclf\u001b[0m\u001b[0;34m.\u001b[0m\u001b[0mfit\u001b[0m\u001b[0;34m(\u001b[0m\u001b[0mNB_train_data\u001b[0m\u001b[0;34m,\u001b[0m \u001b[0mNB_train_labels\u001b[0m\u001b[0;34m)\u001b[0m\u001b[0;34m\u001b[0m\u001b[0;34m\u001b[0m\u001b[0m\n\u001b[1;32m      3\u001b[0m \u001b[0mclf\u001b[0m\u001b[0;34m.\u001b[0m\u001b[0mpredict\u001b[0m\u001b[0;34m(\u001b[0m\u001b[0mNB_train_data\u001b[0m\u001b[0;34m)\u001b[0m\u001b[0;34m\u001b[0m\u001b[0;34m\u001b[0m\u001b[0m\n\u001b[1;32m      4\u001b[0m \u001b[0mclf\u001b[0m\u001b[0;34m.\u001b[0m\u001b[0mscore\u001b[0m\u001b[0;34m(\u001b[0m\u001b[0mNB_dev_data\u001b[0m\u001b[0;34m,\u001b[0m\u001b[0mNB_dev_labels\u001b[0m\u001b[0;34m)\u001b[0m\u001b[0;34m\u001b[0m\u001b[0;34m\u001b[0m\u001b[0m\n",
      "\u001b[0;31mNameError\u001b[0m: name 'BernoulliNB' is not defined"
     ]
    }
   ],
   "source": [
    "clf = BernoulliNB(alpha = 1.0)\n",
    "clf.fit(NB_train_data, NB_train_labels)\n",
    "clf.predict(NB_train_data)\n",
    "clf.score(NB_dev_data,NB_dev_labels)\n"
   ]
  },
  {
   "cell_type": "markdown",
   "metadata": {
    "papermill": {
     "duration": null,
     "end_time": null,
     "exception": null,
     "start_time": null,
     "status": "pending"
    },
    "tags": []
   },
   "source": [
    "## Gaussian NB"
   ]
  },
  {
   "cell_type": "code",
   "execution_count": null,
   "metadata": {
    "execution": {
     "iopub.execute_input": "2021-07-20T16:18:58.164402Z",
     "iopub.status.busy": "2021-07-20T16:18:58.16405Z",
     "iopub.status.idle": "2021-07-20T16:18:58.171188Z",
     "shell.execute_reply": "2021-07-20T16:18:58.170231Z",
     "shell.execute_reply.started": "2021-07-20T16:18:58.164359Z"
    },
    "papermill": {
     "duration": null,
     "end_time": null,
     "exception": null,
     "start_time": null,
     "status": "pending"
    },
    "tags": []
   },
   "outputs": [],
   "source": [
    "\n",
    "NBG_train_data = copy.deepcopy(train_data.iloc[:,10])\n",
    "NBG_train_labels = copy.deepcopy(train_data.iloc[:,-1])\n",
    "NBG_dev_data = copy.deepcopy(dev_data.iloc[:,:-1])\n",
    "NBG_dev_labels = copy.deepcopy(dev_data.iloc[:,-1])"
   ]
  },
  {
   "cell_type": "code",
   "execution_count": null,
   "metadata": {
    "execution": {
     "iopub.execute_input": "2021-07-20T16:18:58.173286Z",
     "iopub.status.busy": "2021-07-20T16:18:58.172905Z",
     "iopub.status.idle": "2021-07-20T16:18:58.197583Z",
     "shell.execute_reply": "2021-07-20T16:18:58.196687Z",
     "shell.execute_reply.started": "2021-07-20T16:18:58.173238Z"
    },
    "papermill": {
     "duration": null,
     "end_time": null,
     "exception": null,
     "start_time": null,
     "status": "pending"
    },
    "tags": []
   },
   "outputs": [],
   "source": [
    "NBG_train_data = copy.deepcopy(train_data.iloc[:,1:11])\n",
    "NBG_dev_data = copy.deepcopy(dev_data.iloc[:,1:11])\n",
    "NBG_train_data.head()"
   ]
  },
  {
   "cell_type": "code",
   "execution_count": null,
   "metadata": {
    "execution": {
     "iopub.execute_input": "2021-07-20T16:18:58.228151Z",
     "iopub.status.busy": "2021-07-20T16:18:58.225255Z",
     "iopub.status.idle": "2021-07-20T16:18:58.259005Z",
     "shell.execute_reply": "2021-07-20T16:18:58.258193Z",
     "shell.execute_reply.started": "2021-07-20T16:18:58.228095Z"
    },
    "papermill": {
     "duration": null,
     "end_time": null,
     "exception": null,
     "start_time": null,
     "status": "pending"
    },
    "tags": []
   },
   "outputs": [],
   "source": [
    "clf = GaussianNB()\n",
    "clf.fit(NBG_train_data, NBG_train_labels)\n",
    "clf.predict(NBG_train_data)\n",
    "clf.score(NBG_dev_data,NBG_dev_labels)"
   ]
  },
  {
   "cell_type": "markdown",
   "metadata": {
    "papermill": {
     "duration": null,
     "end_time": null,
     "exception": null,
     "start_time": null,
     "status": "pending"
    },
    "tags": []
   },
   "source": [
    "# Logistic Regression"
   ]
  },
  {
   "cell_type": "code",
   "execution_count": null,
   "metadata": {
    "execution": {
     "iopub.execute_input": "2021-07-20T18:52:44.104693Z",
     "iopub.status.busy": "2021-07-20T18:52:44.1043Z",
     "iopub.status.idle": "2021-07-20T18:52:56.127566Z",
     "shell.execute_reply": "2021-07-20T18:52:56.126473Z",
     "shell.execute_reply.started": "2021-07-20T18:52:44.104634Z"
    },
    "papermill": {
     "duration": null,
     "end_time": null,
     "exception": null,
     "start_time": null,
     "status": "pending"
    },
    "tags": []
   },
   "outputs": [],
   "source": [
    "#JK\n",
    "# new code cell added by JK\n",
    "# Using training data scaled to range [0,1]\n",
    "print (\"### Using training data scaled to 0 -> 1 ###\\n\")\n",
    "lr_pipe = Pipeline(steps = [\n",
    "        ('scaler', MinMaxScaler()),\n",
    "        ('classifier', LogisticRegression(penalty = 'l2', solver='liblinear'))\n",
    "    ]\n",
    ")\n",
    "\n",
    "lr_param_grid = {\n",
    "    'classifier__C': [1, 10, 100,1000],\n",
    "}\n",
    "\n",
    "\n",
    "#np.random.seed(1)\n",
    "grid_search = GridSearchCV(lr_pipe, lr_param_grid, cv=5, refit='True')\n",
    "grid_search.fit(train_data, train_label)\n",
    "\n",
    "print ('\\nOptimal C for Logistic Regression is {0}'.format(grid_search.best_params_))\n",
    "print ('Logistic Regression f1 Score is {0}'.format(grid_search.best_score_))\n"
   ]
  },
  {
   "cell_type": "markdown",
   "metadata": {
    "papermill": {
     "duration": null,
     "end_time": null,
     "exception": null,
     "start_time": null,
     "status": "pending"
    },
    "tags": []
   },
   "source": [
    "# Stochastic Gradient Descent (SGD)"
   ]
  },
  {
   "cell_type": "code",
   "execution_count": null,
   "metadata": {
    "execution": {
     "iopub.execute_input": "2021-07-20T18:59:50.343539Z",
     "iopub.status.busy": "2021-07-20T18:59:50.343163Z",
     "iopub.status.idle": "2021-07-20T18:59:50.540624Z",
     "shell.execute_reply": "2021-07-20T18:59:50.538798Z",
     "shell.execute_reply.started": "2021-07-20T18:59:50.343508Z"
    },
    "papermill": {
     "duration": null,
     "end_time": null,
     "exception": null,
     "start_time": null,
     "status": "pending"
    },
    "tags": []
   },
   "outputs": [],
   "source": [
    "#JK\n",
    "sgd_clf = linear_model.SGDClassifier(alpha=0.001)\n",
    "sgd_clf.fit(train_data_minmax, train_label)\n",
    "pred_sgd= sgd_clf.predict(dev_data_minmax)\n",
    "#sgd_clf.fit(train_data_b, train_label)\n",
    "#pred_sgd= sgd_clf.predict(dev_data_b)\n",
    "print (metrics.classification_report(dev_label, pred_sgd))\n",
    "print (\" Accuracy score\", metrics.accuracy_score(dev_label, pred_sgd))\n",
    "print(\"\\nConfusion metric\", metrics.confusion_matrix(dev_label, pred_sgd))"
   ]
  },
  {
   "cell_type": "markdown",
   "metadata": {
    "papermill": {
     "duration": null,
     "end_time": null,
     "exception": null,
     "start_time": null,
     "status": "pending"
    },
    "tags": []
   },
   "source": [
    "Accuracy score with SGD is 0.64"
   ]
  },
  {
   "cell_type": "markdown",
   "metadata": {
    "papermill": {
     "duration": null,
     "end_time": null,
     "exception": null,
     "start_time": null,
     "status": "pending"
    },
    "tags": []
   },
   "source": [
    "# Support Vector Machine"
   ]
  },
  {
   "cell_type": "code",
   "execution_count": null,
   "metadata": {
    "execution": {
     "iopub.execute_input": "2021-07-20T18:53:40.481569Z",
     "iopub.status.busy": "2021-07-20T18:53:40.481186Z",
     "iopub.status.idle": "2021-07-20T18:59:03.012975Z",
     "shell.execute_reply": "2021-07-20T18:59:03.011934Z",
     "shell.execute_reply.started": "2021-07-20T18:53:40.481513Z"
    },
    "papermill": {
     "duration": null,
     "end_time": null,
     "exception": null,
     "start_time": null,
     "status": "pending"
    },
    "tags": []
   },
   "outputs": [],
   "source": [
    "#JK\n",
    "param_grid = {'C': [1, 10, 100, 1000], \n",
    "              'gamma': [1, 0.5, 0.1, 0.01], \n",
    "              'kernel': ['rbf']}\n",
    "best_svm = GridSearchCV(SVC(), param_grid, scoring='accuracy')\n",
    "best_svm.fit(train_data_minmax, train_label)\n",
    "best_svm.score(dev_data_minmax, dev_label)\n",
    "print (best_svm.best_params_)\n",
    "\n",
    "svm = SVC(kernel = best_svm.best_params_['kernel'], C=best_svm.best_params_['C'],\n",
    "          gamma=best_svm.best_params_['gamma'])\n",
    "svm.fit(train_data_minmax, train_label)\n",
    "svm_preds = svm.predict(dev_data_minmax)\n",
    "print (metrics.accuracy_score(dev_label, svm_preds))\n",
    "print (classification_report(dev_label, svm_preds))"
   ]
  },
  {
   "cell_type": "code",
   "execution_count": null,
   "metadata": {
    "execution": {
     "iopub.execute_input": "2021-07-20T18:59:32.425418Z",
     "iopub.status.busy": "2021-07-20T18:59:32.425052Z",
     "iopub.status.idle": "2021-07-20T18:59:40.630586Z",
     "shell.execute_reply": "2021-07-20T18:59:40.628642Z",
     "shell.execute_reply.started": "2021-07-20T18:59:32.425386Z"
    },
    "papermill": {
     "duration": null,
     "end_time": null,
     "exception": null,
     "start_time": null,
     "status": "pending"
    },
    "tags": []
   },
   "outputs": [],
   "source": [
    "#JK\n",
    "SVM = SVC(kernel='rbf', C=1000, gamma=0.5)\n",
    "SVM.fit(train_data_minmax, train_label)\n",
    "pred_y_dev_SVM = SVM.predict(dev_data_minmax)\n",
    "acc_SVM = metrics.accuracy_score(dev_label, pred_y_dev_SVM)\n",
    "print (acc_SVM)\n",
    "CM = (metrics.confusion_matrix(dev_label, pred_y_dev_SVM))\n",
    "print (CM)"
   ]
  }
 ],
 "metadata": {
  "celltoolbar": "Edit Metadata",
  "kernelspec": {
   "display_name": "Python 3",
   "language": "python",
   "name": "python3"
  },
  "language_info": {
   "codemirror_mode": {
    "name": "ipython",
    "version": 3
   },
   "file_extension": ".py",
   "mimetype": "text/x-python",
   "name": "python",
   "nbconvert_exporter": "python",
   "pygments_lexer": "ipython3",
   "version": "3.8.3"
  },
  "papermill": {
   "default_parameters": {},
   "duration": 549.117555,
   "end_time": "2021-07-20T22:30:45.872509",
   "environment_variables": {},
   "exception": true,
   "input_path": "__notebook__.ipynb",
   "output_path": "__notebook__.ipynb",
   "parameters": {},
   "start_time": "2021-07-20T22:21:36.754954",
   "version": "2.3.3"
  }
 },
 "nbformat": 4,
 "nbformat_minor": 5
}
